{
 "cells": [
  {
   "cell_type": "code",
   "execution_count": 24,
   "id": "e4307684",
   "metadata": {},
   "outputs": [
    {
     "name": "stdout",
     "output_type": "stream",
     "text": [
      "zoo_path = /home/pi5/hailo_examples/models\n",
      "cwd = /home/pi5/hailo_examples/raspberry_PI5_hailo/Ressources\n",
      "Contents of zoo_path:\n",
      "   yolov11n\n",
      "   yolov8n_relu6_coco--640x640_quant_hailort_hailo8l_1\n"
     ]
    }
   ],
   "source": [
    "from pathlib import Path\n",
    "import os, degirum as dg, json\n",
    "\n",
    "# Expand and print the path you're passing\n",
    "zoo_path = Path('../../models').expanduser().resolve()\n",
    "print(\"zoo_path =\", zoo_path)\n",
    "print(\"cwd =\", Path.cwd())\n",
    "print(\"Contents of zoo_path:\")\n",
    "for p in zoo_path.iterdir():\n",
    "    print(\"  \", p.name)\n"
   ]
  },
  {
   "cell_type": "code",
   "execution_count": 30,
   "id": "606f9ef2",
   "metadata": {},
   "outputs": [
    {
     "name": "stdout",
     "output_type": "stream",
     "text": [
      "files: ['yolov11n.hef', 'labels_yolov11n.json', 'yolov11n-conf.json']\n",
      "SDK sees: []\n"
     ]
    }
   ],
   "source": [
    "import degirum as dg, pathlib\n",
    "zoo_path = \"/home/pi5/hailo_examples/models/yolov11n\"\n",
    "print(\"files:\", [p.name for p in pathlib.Path(zoo_path).iterdir()])\n",
    "\n",
    "model_list = dg.list_models(inference_host_address='@local',\n",
    "                            zoo_url=zoo_path,\n",
    "                            device_type='HAILORT/HAILO8L')\n",
    "print(\"SDK sees:\", list(model_list.keys()))"
   ]
  },
  {
   "cell_type": "code",
   "execution_count": 27,
   "id": "7f35a8db",
   "metadata": {},
   "outputs": [
    {
     "name": "stdout",
     "output_type": "stream",
     "text": [
      "['yolov11n.hef', 'labels_yolov11n.json', 'yolov11n-conf.json']\n"
     ]
    }
   ],
   "source": [
    "from pathlib import Path\n",
    "from pprint import pprint          # ⬅️ correct import\n",
    "\n",
    "zoo_path = Path(\"/home/pi5/hailo_examples/models/yolov11n\")\n",
    "pprint([p.name for p in zoo_path.iterdir()])\n"
   ]
  },
  {
   "cell_type": "code",
   "execution_count": 28,
   "id": "35a35e65",
   "metadata": {},
   "outputs": [
    {
     "name": "stdout",
     "output_type": "stream",
     "text": [
      "Name     = yolov11n\n",
      "Version  = 10\n"
     ]
    }
   ],
   "source": [
    "import json, textwrap\n",
    "cfg = json.load(open(zoo_path / \"yolov11n-conf.json\"))\n",
    "print(\"Name     =\", cfg.get(\"Name\"))\n",
    "print(\"Version  =\", cfg.get(\"ConfigVersion\"))\n"
   ]
  },
  {
   "cell_type": "code",
   "execution_count": 37,
   "id": "e7252035",
   "metadata": {},
   "outputs": [
    {
     "name": "stdout",
     "output_type": "stream",
     "text": [
      "✓ JSON parsed: Name = yolov11n ConfigVersion = 10\n"
     ]
    }
   ],
   "source": [
    "import json, pathlib, sys, traceback\n",
    "\n",
    "cfg_path = pathlib.Path(\"/home/pi5/hailo_examples/models/yolov11n/yolov11n-conf.json\")\n",
    "try:\n",
    "    cfg = json.loads(cfg_path.read_text(encoding=\"utf-8\"))\n",
    "    print(\"✓ JSON parsed: Name =\", cfg.get(\"Name\"),\n",
    "          \"ConfigVersion =\", cfg.get(\"ConfigVersion\"))\n",
    "except Exception:\n",
    "    traceback.print_exc()\n",
    "    sys.exit(1)\n"
   ]
  },
  {
   "cell_type": "code",
   "execution_count": 38,
   "id": "4c800fff",
   "metadata": {},
   "outputs": [
    {
     "ename": "DegirumException",
     "evalue": "Model 'yolov11n' is not found in model zoo '/home/pi5/hailo_examples/models/yolov11n'",
     "output_type": "error",
     "traceback": [
      "\u001b[31m---------------------------------------------------------------------------\u001b[39m",
      "\u001b[31mDegirumException\u001b[39m                          Traceback (most recent call last)",
      "\u001b[36mCell\u001b[39m\u001b[36m \u001b[39m\u001b[32mIn[38]\u001b[39m\u001b[32m, line 2\u001b[39m\n\u001b[32m      1\u001b[39m zoo_path = \u001b[33m\"\u001b[39m\u001b[33m/home/pi5/hailo_examples/models/yolov11n\u001b[39m\u001b[33m\"\u001b[39m\n\u001b[32m----> \u001b[39m\u001b[32m2\u001b[39m model = \u001b[43mdg\u001b[49m\u001b[43m.\u001b[49m\u001b[43mload_model\u001b[49m\u001b[43m(\u001b[49m\n\u001b[32m      3\u001b[39m \u001b[43m    \u001b[49m\u001b[43mmodel_name\u001b[49m\u001b[43m=\u001b[49m\u001b[33;43m\"\u001b[39;49m\u001b[33;43myolov11n\u001b[39;49m\u001b[33;43m\"\u001b[39;49m\u001b[43m,\u001b[49m\n\u001b[32m      4\u001b[39m \u001b[43m    \u001b[49m\u001b[43mzoo_url\u001b[49m\u001b[43m=\u001b[49m\u001b[43mzoo_path\u001b[49m\u001b[43m,\u001b[49m\n\u001b[32m      5\u001b[39m \u001b[43m    \u001b[49m\u001b[43minference_host_address\u001b[49m\u001b[43m=\u001b[49m\u001b[33;43m'\u001b[39;49m\u001b[33;43m@local\u001b[39;49m\u001b[33;43m'\u001b[39;49m\u001b[43m,\u001b[49m\n\u001b[32m      6\u001b[39m \u001b[43m    \u001b[49m\u001b[43mdevice_type\u001b[49m\u001b[43m=\u001b[49m\u001b[33;43m\"\u001b[39;49m\u001b[33;43mHAILORT/HAILO8L\u001b[39;49m\u001b[33;43m\"\u001b[39;49m\n\u001b[32m      7\u001b[39m \u001b[43m)\u001b[49m\n\u001b[32m      8\u001b[39m \u001b[38;5;28mprint\u001b[39m(\u001b[33m\"\u001b[39m\u001b[33m✅ loaded\u001b[39m\u001b[33m\"\u001b[39m)\n",
      "\u001b[36mFile \u001b[39m\u001b[32m~/hailo_examples/degirum_env/lib/python3.11/site-packages/degirum/__init__.py:220\u001b[39m, in \u001b[36mload_model\u001b[39m\u001b[34m(model_name, inference_host_address, zoo_url, token, **kwargs)\u001b[39m\n\u001b[32m    196\u001b[39m \u001b[38;5;250m\u001b[39m\u001b[33;03m\"\"\"\u001b[39;00m\n\u001b[32m    197\u001b[39m \u001b[33;03mLoad a model from the model zoo for the inference.\u001b[39;00m\n\u001b[32m    198\u001b[39m \n\u001b[32m   (...)\u001b[39m\u001b[32m    217\u001b[39m \u001b[33;03m    An instance of [degirum.model.Model][] model handling object to be used for AI inferences.\u001b[39;00m\n\u001b[32m    218\u001b[39m \u001b[33;03m\"\"\"\u001b[39;00m\n\u001b[32m    219\u001b[39m zoo = ZooManager(inference_host_address, zoo_url, token)\n\u001b[32m--> \u001b[39m\u001b[32m220\u001b[39m \u001b[38;5;28;01mreturn\u001b[39;00m \u001b[43mzoo\u001b[49m\u001b[43m.\u001b[49m\u001b[43mload_model\u001b[49m\u001b[43m(\u001b[49m\u001b[43mmodel_name\u001b[49m\u001b[43m,\u001b[49m\u001b[43m \u001b[49m\u001b[43m*\u001b[49m\u001b[43m*\u001b[49m\u001b[43mkwargs\u001b[49m\u001b[43m)\u001b[49m\n",
      "\u001b[36mFile \u001b[39m\u001b[32m~/hailo_examples/degirum_env/lib/python3.11/site-packages/degirum/log.py:59\u001b[39m, in \u001b[36mlog_wrap.<locals>.wrap\u001b[39m\u001b[34m(*args, **kwargs)\u001b[39m\n\u001b[32m     57\u001b[39m \u001b[38;5;28;01mtry\u001b[39;00m:\n\u001b[32m     58\u001b[39m     logger.log(log_level, \u001b[33mf\u001b[39m\u001b[33m\"\u001b[39m\u001b[33m/ \u001b[39m\u001b[38;5;132;01m{\u001b[39;00mf.\u001b[34m__qualname__\u001b[39m\u001b[38;5;132;01m}\u001b[39;00m\u001b[33m\"\u001b[39m)\n\u001b[32m---> \u001b[39m\u001b[32m59\u001b[39m     \u001b[38;5;28;01mreturn\u001b[39;00m \u001b[43mf\u001b[49m\u001b[43m(\u001b[49m\u001b[43m*\u001b[49m\u001b[43margs\u001b[49m\u001b[43m,\u001b[49m\u001b[43m \u001b[49m\u001b[43m*\u001b[49m\u001b[43m*\u001b[49m\u001b[43mkwargs\u001b[49m\u001b[43m)\u001b[49m\n\u001b[32m     60\u001b[39m \u001b[38;5;28;01mfinally\u001b[39;00m:\n\u001b[32m     61\u001b[39m     t2 = time.time_ns()\n",
      "\u001b[36mFile \u001b[39m\u001b[32m~/hailo_examples/degirum_env/lib/python3.11/site-packages/degirum/zoo_manager.py:270\u001b[39m, in \u001b[36mZooManager.load_model\u001b[39m\u001b[34m(self, model_name, **kwargs)\u001b[39m\n\u001b[32m    208\u001b[39m \u001b[38;5;129m@log_wrap\u001b[39m\n\u001b[32m    209\u001b[39m \u001b[38;5;28;01mdef\u001b[39;00m\u001b[38;5;250m \u001b[39m\u001b[34mload_model\u001b[39m(\u001b[38;5;28mself\u001b[39m, model_name: \u001b[38;5;28mstr\u001b[39m, **kwargs) -> Model:\n\u001b[32m    210\u001b[39m \u001b[38;5;250m    \u001b[39m\u001b[33;03m\"\"\"Create and return the model handling object for given model name.\u001b[39;00m\n\u001b[32m    211\u001b[39m \n\u001b[32m    212\u001b[39m \u001b[33;03m    Args:\u001b[39;00m\n\u001b[32m   (...)\u001b[39m\u001b[32m    268\u001b[39m \n\u001b[32m    269\u001b[39m \u001b[33;03m    \"\"\"\u001b[39;00m\n\u001b[32m--> \u001b[39m\u001b[32m270\u001b[39m     model = \u001b[38;5;28;43mself\u001b[39;49m\u001b[43m.\u001b[49m\u001b[43m_zoo\u001b[49m\u001b[43m.\u001b[49m\u001b[43mload_model\u001b[49m\u001b[43m(\u001b[49m\u001b[43mmodel_name\u001b[49m\u001b[43m)\u001b[49m\n\u001b[32m    271\u001b[39m     \u001b[38;5;28;01mfor\u001b[39;00m key, value \u001b[38;5;129;01min\u001b[39;00m kwargs.items():\n\u001b[32m    272\u001b[39m         \u001b[38;5;28;01mif\u001b[39;00m \u001b[38;5;28mhasattr\u001b[39m(Model, key):\n",
      "\u001b[36mFile \u001b[39m\u001b[32m~/hailo_examples/degirum_env/lib/python3.11/site-packages/degirum/log.py:59\u001b[39m, in \u001b[36mlog_wrap.<locals>.wrap\u001b[39m\u001b[34m(*args, **kwargs)\u001b[39m\n\u001b[32m     57\u001b[39m \u001b[38;5;28;01mtry\u001b[39;00m:\n\u001b[32m     58\u001b[39m     logger.log(log_level, \u001b[33mf\u001b[39m\u001b[33m\"\u001b[39m\u001b[33m/ \u001b[39m\u001b[38;5;132;01m{\u001b[39;00mf.\u001b[34m__qualname__\u001b[39m\u001b[38;5;132;01m}\u001b[39;00m\u001b[33m\"\u001b[39m)\n\u001b[32m---> \u001b[39m\u001b[32m59\u001b[39m     \u001b[38;5;28;01mreturn\u001b[39;00m \u001b[43mf\u001b[49m\u001b[43m(\u001b[49m\u001b[43m*\u001b[49m\u001b[43margs\u001b[49m\u001b[43m,\u001b[49m\u001b[43m \u001b[49m\u001b[43m*\u001b[49m\u001b[43m*\u001b[49m\u001b[43mkwargs\u001b[49m\u001b[43m)\u001b[49m\n\u001b[32m     60\u001b[39m \u001b[38;5;28;01mfinally\u001b[39;00m:\n\u001b[32m     61\u001b[39m     t2 = time.time_ns()\n",
      "\u001b[36mFile \u001b[39m\u001b[32m~/hailo_examples/degirum_env/lib/python3.11/site-packages/degirum/_zoo_accessor.py:313\u001b[39m, in \u001b[36m_LocalInferenceLocalDirZooAccessor.load_model\u001b[39m\u001b[34m(self, model)\u001b[39m\n\u001b[32m    303\u001b[39m \u001b[38;5;129m@log_wrap\u001b[39m\n\u001b[32m    304\u001b[39m \u001b[38;5;28;01mdef\u001b[39;00m\u001b[38;5;250m \u001b[39m\u001b[34mload_model\u001b[39m(\u001b[38;5;28mself\u001b[39m, model: \u001b[38;5;28mstr\u001b[39m):\n\u001b[32m    305\u001b[39m \u001b[38;5;250m    \u001b[39m\u001b[33;03m\"\"\"Create model object for given model identifier.\u001b[39;00m\n\u001b[32m    306\u001b[39m \n\u001b[32m    307\u001b[39m \u001b[33;03m    Args:\u001b[39;00m\n\u001b[32m   (...)\u001b[39m\u001b[32m    310\u001b[39m \u001b[33;03m    Returns model object corresponding to model identifier.\u001b[39;00m\n\u001b[32m    311\u001b[39m \u001b[33;03m    \"\"\"\u001b[39;00m\n\u001b[32m--> \u001b[39m\u001b[32m313\u001b[39m     model_params = \u001b[38;5;28;43mself\u001b[39;49m\u001b[43m.\u001b[49m\u001b[43mmodel_info\u001b[49m\u001b[43m(\u001b[49m\u001b[43mmodel\u001b[49m\u001b[43m)\u001b[49m\n\u001b[32m    315\u001b[39m     \u001b[38;5;66;03m# Check Supported Device Types for this model\u001b[39;00m\n\u001b[32m    316\u001b[39m     supported_device_types = \u001b[38;5;28mself\u001b[39m._model_supported_device_types(model_params)\n",
      "\u001b[36mFile \u001b[39m\u001b[32m~/hailo_examples/degirum_env/lib/python3.11/site-packages/degirum/log.py:59\u001b[39m, in \u001b[36mlog_wrap.<locals>.wrap\u001b[39m\u001b[34m(*args, **kwargs)\u001b[39m\n\u001b[32m     57\u001b[39m \u001b[38;5;28;01mtry\u001b[39;00m:\n\u001b[32m     58\u001b[39m     logger.log(log_level, \u001b[33mf\u001b[39m\u001b[33m\"\u001b[39m\u001b[33m/ \u001b[39m\u001b[38;5;132;01m{\u001b[39;00mf.\u001b[34m__qualname__\u001b[39m\u001b[38;5;132;01m}\u001b[39;00m\u001b[33m\"\u001b[39m)\n\u001b[32m---> \u001b[39m\u001b[32m59\u001b[39m     \u001b[38;5;28;01mreturn\u001b[39;00m \u001b[43mf\u001b[49m\u001b[43m(\u001b[49m\u001b[43m*\u001b[49m\u001b[43margs\u001b[49m\u001b[43m,\u001b[49m\u001b[43m \u001b[49m\u001b[43m*\u001b[49m\u001b[43m*\u001b[49m\u001b[43mkwargs\u001b[49m\u001b[43m)\u001b[49m\n\u001b[32m     60\u001b[39m \u001b[38;5;28;01mfinally\u001b[39;00m:\n\u001b[32m     61\u001b[39m     t2 = time.time_ns()\n",
      "\u001b[36mFile \u001b[39m\u001b[32m~/hailo_examples/degirum_env/lib/python3.11/site-packages/degirum/_zoo_accessor.py:131\u001b[39m, in \u001b[36m_CommonZooAccessor.model_info\u001b[39m\u001b[34m(self, model)\u001b[39m\n\u001b[32m    129\u001b[39m     \u001b[38;5;28;01mreturn\u001b[39;00m copy.deepcopy(model_info)\n\u001b[32m    130\u001b[39m \u001b[38;5;28;01melse\u001b[39;00m:\n\u001b[32m--> \u001b[39m\u001b[32m131\u001b[39m     \u001b[38;5;28;01mraise\u001b[39;00m DegirumException(\n\u001b[32m    132\u001b[39m         \u001b[33mf\u001b[39m\u001b[33m\"\u001b[39m\u001b[33mModel \u001b[39m\u001b[33m'\u001b[39m\u001b[38;5;132;01m{\u001b[39;00mmodel\u001b[38;5;132;01m}\u001b[39;00m\u001b[33m'\u001b[39m\u001b[33m is not found in model zoo \u001b[39m\u001b[33m'\u001b[39m\u001b[38;5;132;01m{\u001b[39;00m\u001b[38;5;28mself\u001b[39m.url\u001b[38;5;132;01m}\u001b[39;00m\u001b[33m'\u001b[39m\u001b[33m\"\u001b[39m\n\u001b[32m    133\u001b[39m     )\n",
      "\u001b[31mDegirumException\u001b[39m: Model 'yolov11n' is not found in model zoo '/home/pi5/hailo_examples/models/yolov11n'"
     ]
    }
   ],
   "source": [
    "zoo_path = \"/home/pi5/hailo_examples/models/yolov11n\"\n",
    "model = dg.load_model(\n",
    "    model_name=\"yolov11n\",\n",
    "    zoo_url=zoo_path,\n",
    "    inference_host_address='@local',\n",
    "    device_type=\"HAILORT/HAILO8L\"\n",
    ")\n",
    "print(\"✅ loaded\")\n"
   ]
  },
  {
   "cell_type": "code",
   "execution_count": 36,
   "id": "09051d23",
   "metadata": {},
   "outputs": [
    {
     "name": "stdout",
     "output_type": "stream",
     "text": [
      "SDK sees: []\n"
     ]
    }
   ],
   "source": [
    "import degirum as dg\n",
    "zoo_path = \"/home/pi5/hailo_examples/models/yolov11n\"\n",
    "\n",
    "print(\"SDK sees:\", list(\n",
    "    dg.list_models(inference_host_address='@local',\n",
    "                   zoo_url=zoo_path,\n",
    "                   device_type='HAILORT/HAILO8L'\n",
    ").keys()))\n"
   ]
  },
  {
   "cell_type": "code",
   "execution_count": 35,
   "id": "34de1041",
   "metadata": {},
   "outputs": [
    {
     "name": "stdout",
     "output_type": "stream",
     "text": [
      "SDK sees: dict_keys([])\n"
     ]
    },
    {
     "ename": "DegirumException",
     "evalue": "Model 'yolov11n' is not found in model zoo '/home/pi5/hailo_examples/models/yolov11n'",
     "output_type": "error",
     "traceback": [
      "\u001b[31m---------------------------------------------------------------------------\u001b[39m",
      "\u001b[31mDegirumException\u001b[39m                          Traceback (most recent call last)",
      "\u001b[36mCell\u001b[39m\u001b[36m \u001b[39m\u001b[32mIn[35]\u001b[39m\u001b[32m, line 9\u001b[39m\n\u001b[32m      2\u001b[39m zoo_path = \u001b[33m\"\u001b[39m\u001b[33m/home/pi5/hailo_examples/models/yolov11n\u001b[39m\u001b[33m\"\u001b[39m\n\u001b[32m      4\u001b[39m \u001b[38;5;28mprint\u001b[39m(\u001b[33m\"\u001b[39m\u001b[33mSDK sees:\u001b[39m\u001b[33m\"\u001b[39m, dg.list_models(\n\u001b[32m      5\u001b[39m         inference_host_address=\u001b[33m'\u001b[39m\u001b[33m@local\u001b[39m\u001b[33m'\u001b[39m,\n\u001b[32m      6\u001b[39m         zoo_url=zoo_path,\n\u001b[32m      7\u001b[39m         device_type=\u001b[33m'\u001b[39m\u001b[33mHAILORT/HAILO8L\u001b[39m\u001b[33m'\u001b[39m).keys())\n\u001b[32m----> \u001b[39m\u001b[32m9\u001b[39m model = \u001b[43mdg\u001b[49m\u001b[43m.\u001b[49m\u001b[43mload_model\u001b[49m\u001b[43m(\u001b[49m\u001b[33;43m\"\u001b[39;49m\u001b[33;43myolov11n\u001b[39;49m\u001b[33;43m\"\u001b[39;49m\u001b[43m,\u001b[49m\n\u001b[32m     10\u001b[39m \u001b[43m                      \u001b[49m\u001b[43mzoo_url\u001b[49m\u001b[43m=\u001b[49m\u001b[43mzoo_path\u001b[49m\u001b[43m,\u001b[49m\n\u001b[32m     11\u001b[39m \u001b[43m                      \u001b[49m\u001b[43minference_host_address\u001b[49m\u001b[43m=\u001b[49m\u001b[33;43m'\u001b[39;49m\u001b[33;43m@local\u001b[39;49m\u001b[33;43m'\u001b[39;49m\u001b[43m,\u001b[49m\n\u001b[32m     12\u001b[39m \u001b[43m                      \u001b[49m\u001b[43mdevice_type\u001b[49m\u001b[43m=\u001b[49m\u001b[33;43m'\u001b[39;49m\u001b[33;43mHAILORT/HAILO8L\u001b[39;49m\u001b[33;43m'\u001b[39;49m\u001b[43m)\u001b[49m\n\u001b[32m     13\u001b[39m \u001b[38;5;28mprint\u001b[39m(\u001b[33m\"\u001b[39m\u001b[33m✅ model loaded; first 3 labels:\u001b[39m\u001b[33m\"\u001b[39m, model.labels[:\u001b[32m3\u001b[39m])\n",
      "\u001b[36mFile \u001b[39m\u001b[32m~/hailo_examples/degirum_env/lib/python3.11/site-packages/degirum/__init__.py:220\u001b[39m, in \u001b[36mload_model\u001b[39m\u001b[34m(model_name, inference_host_address, zoo_url, token, **kwargs)\u001b[39m\n\u001b[32m    196\u001b[39m \u001b[38;5;250m\u001b[39m\u001b[33;03m\"\"\"\u001b[39;00m\n\u001b[32m    197\u001b[39m \u001b[33;03mLoad a model from the model zoo for the inference.\u001b[39;00m\n\u001b[32m    198\u001b[39m \n\u001b[32m   (...)\u001b[39m\u001b[32m    217\u001b[39m \u001b[33;03m    An instance of [degirum.model.Model][] model handling object to be used for AI inferences.\u001b[39;00m\n\u001b[32m    218\u001b[39m \u001b[33;03m\"\"\"\u001b[39;00m\n\u001b[32m    219\u001b[39m zoo = ZooManager(inference_host_address, zoo_url, token)\n\u001b[32m--> \u001b[39m\u001b[32m220\u001b[39m \u001b[38;5;28;01mreturn\u001b[39;00m \u001b[43mzoo\u001b[49m\u001b[43m.\u001b[49m\u001b[43mload_model\u001b[49m\u001b[43m(\u001b[49m\u001b[43mmodel_name\u001b[49m\u001b[43m,\u001b[49m\u001b[43m \u001b[49m\u001b[43m*\u001b[49m\u001b[43m*\u001b[49m\u001b[43mkwargs\u001b[49m\u001b[43m)\u001b[49m\n",
      "\u001b[36mFile \u001b[39m\u001b[32m~/hailo_examples/degirum_env/lib/python3.11/site-packages/degirum/log.py:59\u001b[39m, in \u001b[36mlog_wrap.<locals>.wrap\u001b[39m\u001b[34m(*args, **kwargs)\u001b[39m\n\u001b[32m     57\u001b[39m \u001b[38;5;28;01mtry\u001b[39;00m:\n\u001b[32m     58\u001b[39m     logger.log(log_level, \u001b[33mf\u001b[39m\u001b[33m\"\u001b[39m\u001b[33m/ \u001b[39m\u001b[38;5;132;01m{\u001b[39;00mf.\u001b[34m__qualname__\u001b[39m\u001b[38;5;132;01m}\u001b[39;00m\u001b[33m\"\u001b[39m)\n\u001b[32m---> \u001b[39m\u001b[32m59\u001b[39m     \u001b[38;5;28;01mreturn\u001b[39;00m \u001b[43mf\u001b[49m\u001b[43m(\u001b[49m\u001b[43m*\u001b[49m\u001b[43margs\u001b[49m\u001b[43m,\u001b[49m\u001b[43m \u001b[49m\u001b[43m*\u001b[49m\u001b[43m*\u001b[49m\u001b[43mkwargs\u001b[49m\u001b[43m)\u001b[49m\n\u001b[32m     60\u001b[39m \u001b[38;5;28;01mfinally\u001b[39;00m:\n\u001b[32m     61\u001b[39m     t2 = time.time_ns()\n",
      "\u001b[36mFile \u001b[39m\u001b[32m~/hailo_examples/degirum_env/lib/python3.11/site-packages/degirum/zoo_manager.py:270\u001b[39m, in \u001b[36mZooManager.load_model\u001b[39m\u001b[34m(self, model_name, **kwargs)\u001b[39m\n\u001b[32m    208\u001b[39m \u001b[38;5;129m@log_wrap\u001b[39m\n\u001b[32m    209\u001b[39m \u001b[38;5;28;01mdef\u001b[39;00m\u001b[38;5;250m \u001b[39m\u001b[34mload_model\u001b[39m(\u001b[38;5;28mself\u001b[39m, model_name: \u001b[38;5;28mstr\u001b[39m, **kwargs) -> Model:\n\u001b[32m    210\u001b[39m \u001b[38;5;250m    \u001b[39m\u001b[33;03m\"\"\"Create and return the model handling object for given model name.\u001b[39;00m\n\u001b[32m    211\u001b[39m \n\u001b[32m    212\u001b[39m \u001b[33;03m    Args:\u001b[39;00m\n\u001b[32m   (...)\u001b[39m\u001b[32m    268\u001b[39m \n\u001b[32m    269\u001b[39m \u001b[33;03m    \"\"\"\u001b[39;00m\n\u001b[32m--> \u001b[39m\u001b[32m270\u001b[39m     model = \u001b[38;5;28;43mself\u001b[39;49m\u001b[43m.\u001b[49m\u001b[43m_zoo\u001b[49m\u001b[43m.\u001b[49m\u001b[43mload_model\u001b[49m\u001b[43m(\u001b[49m\u001b[43mmodel_name\u001b[49m\u001b[43m)\u001b[49m\n\u001b[32m    271\u001b[39m     \u001b[38;5;28;01mfor\u001b[39;00m key, value \u001b[38;5;129;01min\u001b[39;00m kwargs.items():\n\u001b[32m    272\u001b[39m         \u001b[38;5;28;01mif\u001b[39;00m \u001b[38;5;28mhasattr\u001b[39m(Model, key):\n",
      "\u001b[36mFile \u001b[39m\u001b[32m~/hailo_examples/degirum_env/lib/python3.11/site-packages/degirum/log.py:59\u001b[39m, in \u001b[36mlog_wrap.<locals>.wrap\u001b[39m\u001b[34m(*args, **kwargs)\u001b[39m\n\u001b[32m     57\u001b[39m \u001b[38;5;28;01mtry\u001b[39;00m:\n\u001b[32m     58\u001b[39m     logger.log(log_level, \u001b[33mf\u001b[39m\u001b[33m\"\u001b[39m\u001b[33m/ \u001b[39m\u001b[38;5;132;01m{\u001b[39;00mf.\u001b[34m__qualname__\u001b[39m\u001b[38;5;132;01m}\u001b[39;00m\u001b[33m\"\u001b[39m)\n\u001b[32m---> \u001b[39m\u001b[32m59\u001b[39m     \u001b[38;5;28;01mreturn\u001b[39;00m \u001b[43mf\u001b[49m\u001b[43m(\u001b[49m\u001b[43m*\u001b[49m\u001b[43margs\u001b[49m\u001b[43m,\u001b[49m\u001b[43m \u001b[49m\u001b[43m*\u001b[49m\u001b[43m*\u001b[49m\u001b[43mkwargs\u001b[49m\u001b[43m)\u001b[49m\n\u001b[32m     60\u001b[39m \u001b[38;5;28;01mfinally\u001b[39;00m:\n\u001b[32m     61\u001b[39m     t2 = time.time_ns()\n",
      "\u001b[36mFile \u001b[39m\u001b[32m~/hailo_examples/degirum_env/lib/python3.11/site-packages/degirum/_zoo_accessor.py:313\u001b[39m, in \u001b[36m_LocalInferenceLocalDirZooAccessor.load_model\u001b[39m\u001b[34m(self, model)\u001b[39m\n\u001b[32m    303\u001b[39m \u001b[38;5;129m@log_wrap\u001b[39m\n\u001b[32m    304\u001b[39m \u001b[38;5;28;01mdef\u001b[39;00m\u001b[38;5;250m \u001b[39m\u001b[34mload_model\u001b[39m(\u001b[38;5;28mself\u001b[39m, model: \u001b[38;5;28mstr\u001b[39m):\n\u001b[32m    305\u001b[39m \u001b[38;5;250m    \u001b[39m\u001b[33;03m\"\"\"Create model object for given model identifier.\u001b[39;00m\n\u001b[32m    306\u001b[39m \n\u001b[32m    307\u001b[39m \u001b[33;03m    Args:\u001b[39;00m\n\u001b[32m   (...)\u001b[39m\u001b[32m    310\u001b[39m \u001b[33;03m    Returns model object corresponding to model identifier.\u001b[39;00m\n\u001b[32m    311\u001b[39m \u001b[33;03m    \"\"\"\u001b[39;00m\n\u001b[32m--> \u001b[39m\u001b[32m313\u001b[39m     model_params = \u001b[38;5;28;43mself\u001b[39;49m\u001b[43m.\u001b[49m\u001b[43mmodel_info\u001b[49m\u001b[43m(\u001b[49m\u001b[43mmodel\u001b[49m\u001b[43m)\u001b[49m\n\u001b[32m    315\u001b[39m     \u001b[38;5;66;03m# Check Supported Device Types for this model\u001b[39;00m\n\u001b[32m    316\u001b[39m     supported_device_types = \u001b[38;5;28mself\u001b[39m._model_supported_device_types(model_params)\n",
      "\u001b[36mFile \u001b[39m\u001b[32m~/hailo_examples/degirum_env/lib/python3.11/site-packages/degirum/log.py:59\u001b[39m, in \u001b[36mlog_wrap.<locals>.wrap\u001b[39m\u001b[34m(*args, **kwargs)\u001b[39m\n\u001b[32m     57\u001b[39m \u001b[38;5;28;01mtry\u001b[39;00m:\n\u001b[32m     58\u001b[39m     logger.log(log_level, \u001b[33mf\u001b[39m\u001b[33m\"\u001b[39m\u001b[33m/ \u001b[39m\u001b[38;5;132;01m{\u001b[39;00mf.\u001b[34m__qualname__\u001b[39m\u001b[38;5;132;01m}\u001b[39;00m\u001b[33m\"\u001b[39m)\n\u001b[32m---> \u001b[39m\u001b[32m59\u001b[39m     \u001b[38;5;28;01mreturn\u001b[39;00m \u001b[43mf\u001b[49m\u001b[43m(\u001b[49m\u001b[43m*\u001b[49m\u001b[43margs\u001b[49m\u001b[43m,\u001b[49m\u001b[43m \u001b[49m\u001b[43m*\u001b[49m\u001b[43m*\u001b[49m\u001b[43mkwargs\u001b[49m\u001b[43m)\u001b[49m\n\u001b[32m     60\u001b[39m \u001b[38;5;28;01mfinally\u001b[39;00m:\n\u001b[32m     61\u001b[39m     t2 = time.time_ns()\n",
      "\u001b[36mFile \u001b[39m\u001b[32m~/hailo_examples/degirum_env/lib/python3.11/site-packages/degirum/_zoo_accessor.py:131\u001b[39m, in \u001b[36m_CommonZooAccessor.model_info\u001b[39m\u001b[34m(self, model)\u001b[39m\n\u001b[32m    129\u001b[39m     \u001b[38;5;28;01mreturn\u001b[39;00m copy.deepcopy(model_info)\n\u001b[32m    130\u001b[39m \u001b[38;5;28;01melse\u001b[39;00m:\n\u001b[32m--> \u001b[39m\u001b[32m131\u001b[39m     \u001b[38;5;28;01mraise\u001b[39;00m DegirumException(\n\u001b[32m    132\u001b[39m         \u001b[33mf\u001b[39m\u001b[33m\"\u001b[39m\u001b[33mModel \u001b[39m\u001b[33m'\u001b[39m\u001b[38;5;132;01m{\u001b[39;00mmodel\u001b[38;5;132;01m}\u001b[39;00m\u001b[33m'\u001b[39m\u001b[33m is not found in model zoo \u001b[39m\u001b[33m'\u001b[39m\u001b[38;5;132;01m{\u001b[39;00m\u001b[38;5;28mself\u001b[39m.url\u001b[38;5;132;01m}\u001b[39;00m\u001b[33m'\u001b[39m\u001b[33m\"\u001b[39m\n\u001b[32m    133\u001b[39m     )\n",
      "\u001b[31mDegirumException\u001b[39m: Model 'yolov11n' is not found in model zoo '/home/pi5/hailo_examples/models/yolov11n'"
     ]
    }
   ],
   "source": [
    "import degirum as dg\n",
    "zoo_path = \"/home/pi5/hailo_examples/models/yolov11n\"\n",
    "\n",
    "print(\"SDK sees:\", dg.list_models(\n",
    "        inference_host_address='@local',\n",
    "        zoo_url=zoo_path,\n",
    "        device_type='HAILORT/HAILO8L').keys())\n",
    "\n",
    "model = dg.load_model(\"yolov11n\",\n",
    "                      zoo_url=zoo_path,\n",
    "                      inference_host_address='@local',\n",
    "                      device_type='HAILORT/HAILO8L')\n",
    "print(\"✅ model loaded; first 3 labels:\", model.labels[:3])\n"
   ]
  },
  {
   "cell_type": "code",
   "execution_count": 1,
   "id": "a83e4cd3",
   "metadata": {},
   "outputs": [
    {
     "ename": "NameError",
     "evalue": "name 'zoo_path' is not defined",
     "output_type": "error",
     "traceback": [
      "\u001b[31m---------------------------------------------------------------------------\u001b[39m",
      "\u001b[31mNameError\u001b[39m                                 Traceback (most recent call last)",
      "\u001b[36mCell\u001b[39m\u001b[36m \u001b[39m\u001b[32mIn[1]\u001b[39m\u001b[32m, line 4\u001b[39m\n\u001b[32m      1\u001b[39m \u001b[38;5;28;01mimport\u001b[39;00m\u001b[38;5;250m \u001b[39m\u001b[34;01mdegirum\u001b[39;00m\u001b[38;5;250m \u001b[39m\u001b[38;5;28;01mas\u001b[39;00m\u001b[38;5;250m \u001b[39m\u001b[34;01mdg\u001b[39;00m\n\u001b[32m      2\u001b[39m model_list = dg.list_models(\n\u001b[32m      3\u001b[39m     inference_host_address=\u001b[33m'\u001b[39m\u001b[33m@local\u001b[39m\u001b[33m'\u001b[39m,\n\u001b[32m----> \u001b[39m\u001b[32m4\u001b[39m     zoo_url=\u001b[38;5;28mstr\u001b[39m(\u001b[43mzoo_path\u001b[49m),\n\u001b[32m      5\u001b[39m     device_type=\u001b[33m'\u001b[39m\u001b[33mHAILORT/HAILO8L\u001b[39m\u001b[33m'\u001b[39m\n\u001b[32m      6\u001b[39m )\n\u001b[32m      7\u001b[39m \u001b[38;5;28mprint\u001b[39m(\u001b[33m\"\u001b[39m\u001b[33mSDK sees:\u001b[39m\u001b[33m\"\u001b[39m, \u001b[38;5;28mlist\u001b[39m(model_list.keys()))\n",
      "\u001b[31mNameError\u001b[39m: name 'zoo_path' is not defined"
     ]
    }
   ],
   "source": [
    "import degirum as dg\n",
    "model_list = dg.list_models(\n",
    "    inference_host_address='@local',\n",
    "    zoo_url=str(zoo_path),\n",
    "    device_type='HAILORT/HAILO8L'\n",
    ")\n",
    "print(\"SDK sees:\", list(model_list.keys()))\n"
   ]
  },
  {
   "cell_type": "code",
   "execution_count": 2,
   "id": "ccc4616a",
   "metadata": {},
   "outputs": [],
   "source": [
    "import degirum as dg\n",
    "\n",
    "inference_host_address = \"@local\"\n",
    "zoo_url = '../../models'\n",
    "token=''\n",
    "device_type='HAILORT/HAILO8L'\n",
    "\n",
    "model_list = dg.list_models(\n",
    "    inference_host_address=inference_host_address,\n",
    "    zoo_url=zoo_url,\n",
    "    token=token,\n",
    "    device_type=device_type \n",
    ")\n",
    "\n",
    "for model_name in model_list.keys():\n",
    "    print(model_name)"
   ]
  },
  {
   "cell_type": "code",
   "execution_count": 6,
   "id": "daa1cae4",
   "metadata": {},
   "outputs": [
    {
     "name": "stdout",
     "output_type": "stream",
     "text": [
      "Current working directory: /home/pi5/hailo_examples/raspberry_PI5_hailo/Ressources\n"
     ]
    }
   ],
   "source": [
    "import os\n",
    "print(f\"Current working directory: {os.getcwd()}\")"
   ]
  },
  {
   "cell_type": "code",
   "execution_count": 2,
   "id": "8aea171b",
   "metadata": {},
   "outputs": [
    {
     "name": "stdout",
     "output_type": "stream",
     "text": [
      "demo-1.gif\t       hailort.log\t      Screenshot-FPS.png\n",
      "demo-2.gif\t       make_demo.ipynb\t      Screenshot.png\n",
      "demo_web_app.gif       phone_video_demo.gif   store-aisle-detection.mp4\n",
      "example_640.mp4        phone_video.mp4\t      test.ipynb\n",
      "example.mp4\t       road_trafifc.mp4       Traffic.mp4\n",
      "git.ipynb\t       saved_inference_1.mov  yolov11n\n",
      "HailoDetectionYolo.py  saved_inference_1.mp4\n"
     ]
    }
   ],
   "source": [
    "! ls"
   ]
  },
  {
   "cell_type": "code",
   "execution_count": 15,
   "id": "83bb7d0c",
   "metadata": {},
   "outputs": [
    {
     "name": "stdout",
     "output_type": "stream",
     "text": [
      "Help on function load_model in module degirum:\n",
      "\n",
      "load_model(model_name: str, inference_host_address: str, zoo_url: Optional[str] = None, token: Optional[str] = None, **kwargs)\n",
      "    Load a model from the model zoo for the inference.\n",
      "    \n",
      "    Args:\n",
      "        model_name: Model name to load from the model zoo.\n",
      "    \n",
      "        inference_host_address: Inference engine designator; it defines which inference engine to use.\n",
      "    \n",
      "        zoo_url: Model zoo URL string which defines the model zoo to operate with.\n",
      "    \n",
      "        token: Cloud API access token used to access the cloud zoo.\n",
      "    \n",
      "        **kwargs (any):\n",
      "            you may pass arbitrary model properties to be assigned to the model object in a form\n",
      "            of property=value\n",
      "    \n",
      "    !!! note\n",
      "    \n",
      "        For detailed description of `zoo_url`, `inference_host_address`, and `token` parameters refer to [degirum.connect][] function.\n",
      "    \n",
      "    Returns (degirum.model.Model):\n",
      "        An instance of [degirum.model.Model][] model handling object to be used for AI inferences.\n",
      "\n"
     ]
    }
   ],
   "source": [
    "help(dg.load_model)"
   ]
  },
  {
   "cell_type": "code",
   "execution_count": 32,
   "id": "1a662d53",
   "metadata": {},
   "outputs": [
    {
     "name": "stdout",
     "output_type": "stream",
     "text": [
      "HailoDetectionYolo.py  labels_yolo11n.json  yolo11n.hef  yolo11n.json\n"
     ]
    }
   ],
   "source": [
    "!ls hailo_model/"
   ]
  },
  {
   "cell_type": "code",
   "execution_count": 35,
   "id": "c7b1afde",
   "metadata": {},
   "outputs": [
    {
     "name": "stdout",
     "output_type": "stream",
     "text": [
      "total 10180\n",
      "-rw-r--r-- 1 pi5 pi5     4175 Jun  4 13:31 HailoDetectionYolo.py\n",
      "-rw-r--r-- 1 pi5 pi5     1653 May  7 17:24 labels_yolo11n.json\n",
      "-rw-r--r-- 1 pi5 pi5 10404793 Jun  5 18:19 yolo11n.hef\n",
      "-rw-r--r-- 1 pi5 pi5      781 Jun  5 18:49 yolo11n.json\n"
     ]
    }
   ],
   "source": [
    "ls -l ./hailo_model\n"
   ]
  },
  {
   "cell_type": "code",
   "execution_count": 2,
   "id": "e399b9da",
   "metadata": {},
   "outputs": [
    {
     "name": "stdout",
     "output_type": "stream",
     "text": [
      "Files in zoo path: ['labels_yolo11n.json', 'yolo11n.json', 'HailoDetectionYolo.py', 'yolo11n.hef']\n",
      "JSON content: {\n",
      "  \"Name\": \"yolo11n\",\n",
      "  \"ConfigVersion\": 10,\n",
      "  \"Checksum\":\"\",\n",
      "\n",
      "  \"DEVICE\": [\n",
      "    {\n",
      "      \"DeviceType\": \"HAILO8L\",\n",
      "      \"RuntimeAgent\": \"HAILORT\",\n",
      "      \"SupportedDeviceTypes\": \"HAILORT/HAILO8L, HAILORT/HAILO8\"\n",
      "    }\n",
      "  ],\n",
      "\n",
      "  \"PRE_PROCESS\": [\n",
      "    {\n",
      "      \"InputType\": \"Image\",\n",
      "      \"InputN\": 1,\n",
      "      \"InputH\": 640,\n",
      "      \"InputW\": 640,\n",
      "      \"InputC\": 3,\n",
      "      \"InputPadMethod\": \"letterbox\",\n",
      "      \"InputResizeMethod\": \"bilinear\",\n",
      "      \"InputQuantEn\": true\n",
      "    }\n",
      "  ],\n",
      "\n",
      "  \"MODEL_PARAMETERS\": [\n",
      "    {\n",
      "      \"ModelPath\": \"yolo11n.hef\"\n",
      "    }\n",
      "  ],\n",
      "\n",
      "  \"POST_PROCESS\": [\n",
      "    {\n",
      "      \"OutputPostprocessType\": \"Detection\",\n",
      "      \"PythonFile\": \"HailoDetectionYolo.py\",\n",
      "      \"OutputNumClasses\": 80,\n",
      "      \"LabelsPath\": \"labels_yolo11n.json\",\n",
      "      \"OutputConfThreshold\": 0.30\n",
      "    }\n",
      "  ]\n",
      "}\n",
      "\n"
     ]
    }
   ],
   "source": [
    "import os\n",
    "zoo_path = os.path.abspath('./hailo_model')\n",
    "print(\"Files in zoo path:\", os.listdir(zoo_path))\n",
    "with open(os.path.join(zoo_path, 'yolo11n.json')) as f:\n",
    "    print(\"JSON content:\", f.read())\n"
   ]
  },
  {
   "cell_type": "code",
   "execution_count": 11,
   "id": "38051fda",
   "metadata": {},
   "outputs": [
    {
     "ename": "DegirumException",
     "evalue": "Model 'yolo11n' is not found in model zoo './hailo_model'",
     "output_type": "error",
     "traceback": [
      "\u001b[31m---------------------------------------------------------------------------\u001b[39m",
      "\u001b[31mDegirumException\u001b[39m                          Traceback (most recent call last)",
      "\u001b[36mCell\u001b[39m\u001b[36m \u001b[39m\u001b[32mIn[11]\u001b[39m\u001b[32m, line 4\u001b[39m\n\u001b[32m      1\u001b[39m \u001b[38;5;28;01mimport\u001b[39;00m\u001b[38;5;250m \u001b[39m\u001b[34;01mdegirum\u001b[39;00m\u001b[38;5;250m \u001b[39m\u001b[38;5;28;01mas\u001b[39;00m\u001b[38;5;250m \u001b[39m\u001b[34;01mdg\u001b[39;00m\n\u001b[32m      2\u001b[39m \u001b[38;5;28;01mfrom\u001b[39;00m\u001b[38;5;250m \u001b[39m\u001b[34;01mpprint\u001b[39;00m\u001b[38;5;250m \u001b[39m\u001b[38;5;28;01mimport\u001b[39;00m pprint\n\u001b[32m----> \u001b[39m\u001b[32m4\u001b[39m model = \u001b[43mdg\u001b[49m\u001b[43m.\u001b[49m\u001b[43mload_model\u001b[49m\u001b[43m(\u001b[49m\n\u001b[32m      5\u001b[39m \u001b[43m    \u001b[49m\u001b[43mmodel_name\u001b[49m\u001b[43m=\u001b[49m\u001b[33;43m'\u001b[39;49m\u001b[33;43myolo11n\u001b[39;49m\u001b[33;43m'\u001b[39;49m\u001b[43m,\u001b[49m\u001b[43m                       \u001b[49m\u001b[38;5;66;43;03m# must match yolov11n.json!\u001b[39;49;00m\n\u001b[32m      6\u001b[39m \u001b[43m    \u001b[49m\u001b[43minference_host_address\u001b[49m\u001b[43m=\u001b[49m\u001b[33;43m'\u001b[39;49m\u001b[33;43m@local\u001b[39;49m\u001b[33;43m'\u001b[39;49m\u001b[43m,\u001b[49m\n\u001b[32m      7\u001b[39m \u001b[43m    \u001b[49m\u001b[43mzoo_url\u001b[49m\u001b[43m=\u001b[49m\u001b[33;43m'\u001b[39;49m\u001b[33;43m./hailo_model\u001b[39;49m\u001b[33;43m'\u001b[39;49m\u001b[43m                      \u001b[49m\u001b[38;5;66;43;03m# path to directory, NO trailing slash\u001b[39;49;00m\n\u001b[32m      8\u001b[39m \u001b[43m)\u001b[49m\n\u001b[32m     10\u001b[39m pprint(model)\n",
      "\u001b[36mFile \u001b[39m\u001b[32m~/hailo_examples/degirum_env/lib/python3.11/site-packages/degirum/__init__.py:220\u001b[39m, in \u001b[36mload_model\u001b[39m\u001b[34m(model_name, inference_host_address, zoo_url, token, **kwargs)\u001b[39m\n\u001b[32m    196\u001b[39m \u001b[38;5;250m\u001b[39m\u001b[33;03m\"\"\"\u001b[39;00m\n\u001b[32m    197\u001b[39m \u001b[33;03mLoad a model from the model zoo for the inference.\u001b[39;00m\n\u001b[32m    198\u001b[39m \n\u001b[32m   (...)\u001b[39m\u001b[32m    217\u001b[39m \u001b[33;03m    An instance of [degirum.model.Model][] model handling object to be used for AI inferences.\u001b[39;00m\n\u001b[32m    218\u001b[39m \u001b[33;03m\"\"\"\u001b[39;00m\n\u001b[32m    219\u001b[39m zoo = ZooManager(inference_host_address, zoo_url, token)\n\u001b[32m--> \u001b[39m\u001b[32m220\u001b[39m \u001b[38;5;28;01mreturn\u001b[39;00m \u001b[43mzoo\u001b[49m\u001b[43m.\u001b[49m\u001b[43mload_model\u001b[49m\u001b[43m(\u001b[49m\u001b[43mmodel_name\u001b[49m\u001b[43m,\u001b[49m\u001b[43m \u001b[49m\u001b[43m*\u001b[49m\u001b[43m*\u001b[49m\u001b[43mkwargs\u001b[49m\u001b[43m)\u001b[49m\n",
      "\u001b[36mFile \u001b[39m\u001b[32m~/hailo_examples/degirum_env/lib/python3.11/site-packages/degirum/log.py:59\u001b[39m, in \u001b[36mlog_wrap.<locals>.wrap\u001b[39m\u001b[34m(*args, **kwargs)\u001b[39m\n\u001b[32m     57\u001b[39m \u001b[38;5;28;01mtry\u001b[39;00m:\n\u001b[32m     58\u001b[39m     logger.log(log_level, \u001b[33mf\u001b[39m\u001b[33m\"\u001b[39m\u001b[33m/ \u001b[39m\u001b[38;5;132;01m{\u001b[39;00mf.\u001b[34m__qualname__\u001b[39m\u001b[38;5;132;01m}\u001b[39;00m\u001b[33m\"\u001b[39m)\n\u001b[32m---> \u001b[39m\u001b[32m59\u001b[39m     \u001b[38;5;28;01mreturn\u001b[39;00m \u001b[43mf\u001b[49m\u001b[43m(\u001b[49m\u001b[43m*\u001b[49m\u001b[43margs\u001b[49m\u001b[43m,\u001b[49m\u001b[43m \u001b[49m\u001b[43m*\u001b[49m\u001b[43m*\u001b[49m\u001b[43mkwargs\u001b[49m\u001b[43m)\u001b[49m\n\u001b[32m     60\u001b[39m \u001b[38;5;28;01mfinally\u001b[39;00m:\n\u001b[32m     61\u001b[39m     t2 = time.time_ns()\n",
      "\u001b[36mFile \u001b[39m\u001b[32m~/hailo_examples/degirum_env/lib/python3.11/site-packages/degirum/zoo_manager.py:270\u001b[39m, in \u001b[36mZooManager.load_model\u001b[39m\u001b[34m(self, model_name, **kwargs)\u001b[39m\n\u001b[32m    208\u001b[39m \u001b[38;5;129m@log_wrap\u001b[39m\n\u001b[32m    209\u001b[39m \u001b[38;5;28;01mdef\u001b[39;00m\u001b[38;5;250m \u001b[39m\u001b[34mload_model\u001b[39m(\u001b[38;5;28mself\u001b[39m, model_name: \u001b[38;5;28mstr\u001b[39m, **kwargs) -> Model:\n\u001b[32m    210\u001b[39m \u001b[38;5;250m    \u001b[39m\u001b[33;03m\"\"\"Create and return the model handling object for given model name.\u001b[39;00m\n\u001b[32m    211\u001b[39m \n\u001b[32m    212\u001b[39m \u001b[33;03m    Args:\u001b[39;00m\n\u001b[32m   (...)\u001b[39m\u001b[32m    268\u001b[39m \n\u001b[32m    269\u001b[39m \u001b[33;03m    \"\"\"\u001b[39;00m\n\u001b[32m--> \u001b[39m\u001b[32m270\u001b[39m     model = \u001b[38;5;28;43mself\u001b[39;49m\u001b[43m.\u001b[49m\u001b[43m_zoo\u001b[49m\u001b[43m.\u001b[49m\u001b[43mload_model\u001b[49m\u001b[43m(\u001b[49m\u001b[43mmodel_name\u001b[49m\u001b[43m)\u001b[49m\n\u001b[32m    271\u001b[39m     \u001b[38;5;28;01mfor\u001b[39;00m key, value \u001b[38;5;129;01min\u001b[39;00m kwargs.items():\n\u001b[32m    272\u001b[39m         \u001b[38;5;28;01mif\u001b[39;00m \u001b[38;5;28mhasattr\u001b[39m(Model, key):\n",
      "\u001b[36mFile \u001b[39m\u001b[32m~/hailo_examples/degirum_env/lib/python3.11/site-packages/degirum/log.py:59\u001b[39m, in \u001b[36mlog_wrap.<locals>.wrap\u001b[39m\u001b[34m(*args, **kwargs)\u001b[39m\n\u001b[32m     57\u001b[39m \u001b[38;5;28;01mtry\u001b[39;00m:\n\u001b[32m     58\u001b[39m     logger.log(log_level, \u001b[33mf\u001b[39m\u001b[33m\"\u001b[39m\u001b[33m/ \u001b[39m\u001b[38;5;132;01m{\u001b[39;00mf.\u001b[34m__qualname__\u001b[39m\u001b[38;5;132;01m}\u001b[39;00m\u001b[33m\"\u001b[39m)\n\u001b[32m---> \u001b[39m\u001b[32m59\u001b[39m     \u001b[38;5;28;01mreturn\u001b[39;00m \u001b[43mf\u001b[49m\u001b[43m(\u001b[49m\u001b[43m*\u001b[49m\u001b[43margs\u001b[49m\u001b[43m,\u001b[49m\u001b[43m \u001b[49m\u001b[43m*\u001b[49m\u001b[43m*\u001b[49m\u001b[43mkwargs\u001b[49m\u001b[43m)\u001b[49m\n\u001b[32m     60\u001b[39m \u001b[38;5;28;01mfinally\u001b[39;00m:\n\u001b[32m     61\u001b[39m     t2 = time.time_ns()\n",
      "\u001b[36mFile \u001b[39m\u001b[32m~/hailo_examples/degirum_env/lib/python3.11/site-packages/degirum/_zoo_accessor.py:313\u001b[39m, in \u001b[36m_LocalInferenceLocalDirZooAccessor.load_model\u001b[39m\u001b[34m(self, model)\u001b[39m\n\u001b[32m    303\u001b[39m \u001b[38;5;129m@log_wrap\u001b[39m\n\u001b[32m    304\u001b[39m \u001b[38;5;28;01mdef\u001b[39;00m\u001b[38;5;250m \u001b[39m\u001b[34mload_model\u001b[39m(\u001b[38;5;28mself\u001b[39m, model: \u001b[38;5;28mstr\u001b[39m):\n\u001b[32m    305\u001b[39m \u001b[38;5;250m    \u001b[39m\u001b[33;03m\"\"\"Create model object for given model identifier.\u001b[39;00m\n\u001b[32m    306\u001b[39m \n\u001b[32m    307\u001b[39m \u001b[33;03m    Args:\u001b[39;00m\n\u001b[32m   (...)\u001b[39m\u001b[32m    310\u001b[39m \u001b[33;03m    Returns model object corresponding to model identifier.\u001b[39;00m\n\u001b[32m    311\u001b[39m \u001b[33;03m    \"\"\"\u001b[39;00m\n\u001b[32m--> \u001b[39m\u001b[32m313\u001b[39m     model_params = \u001b[38;5;28;43mself\u001b[39;49m\u001b[43m.\u001b[49m\u001b[43mmodel_info\u001b[49m\u001b[43m(\u001b[49m\u001b[43mmodel\u001b[49m\u001b[43m)\u001b[49m\n\u001b[32m    315\u001b[39m     \u001b[38;5;66;03m# Check Supported Device Types for this model\u001b[39;00m\n\u001b[32m    316\u001b[39m     supported_device_types = \u001b[38;5;28mself\u001b[39m._model_supported_device_types(model_params)\n",
      "\u001b[36mFile \u001b[39m\u001b[32m~/hailo_examples/degirum_env/lib/python3.11/site-packages/degirum/log.py:59\u001b[39m, in \u001b[36mlog_wrap.<locals>.wrap\u001b[39m\u001b[34m(*args, **kwargs)\u001b[39m\n\u001b[32m     57\u001b[39m \u001b[38;5;28;01mtry\u001b[39;00m:\n\u001b[32m     58\u001b[39m     logger.log(log_level, \u001b[33mf\u001b[39m\u001b[33m\"\u001b[39m\u001b[33m/ \u001b[39m\u001b[38;5;132;01m{\u001b[39;00mf.\u001b[34m__qualname__\u001b[39m\u001b[38;5;132;01m}\u001b[39;00m\u001b[33m\"\u001b[39m)\n\u001b[32m---> \u001b[39m\u001b[32m59\u001b[39m     \u001b[38;5;28;01mreturn\u001b[39;00m \u001b[43mf\u001b[49m\u001b[43m(\u001b[49m\u001b[43m*\u001b[49m\u001b[43margs\u001b[49m\u001b[43m,\u001b[49m\u001b[43m \u001b[49m\u001b[43m*\u001b[49m\u001b[43m*\u001b[49m\u001b[43mkwargs\u001b[49m\u001b[43m)\u001b[49m\n\u001b[32m     60\u001b[39m \u001b[38;5;28;01mfinally\u001b[39;00m:\n\u001b[32m     61\u001b[39m     t2 = time.time_ns()\n",
      "\u001b[36mFile \u001b[39m\u001b[32m~/hailo_examples/degirum_env/lib/python3.11/site-packages/degirum/_zoo_accessor.py:131\u001b[39m, in \u001b[36m_CommonZooAccessor.model_info\u001b[39m\u001b[34m(self, model)\u001b[39m\n\u001b[32m    129\u001b[39m     \u001b[38;5;28;01mreturn\u001b[39;00m copy.deepcopy(model_info)\n\u001b[32m    130\u001b[39m \u001b[38;5;28;01melse\u001b[39;00m:\n\u001b[32m--> \u001b[39m\u001b[32m131\u001b[39m     \u001b[38;5;28;01mraise\u001b[39;00m DegirumException(\n\u001b[32m    132\u001b[39m         \u001b[33mf\u001b[39m\u001b[33m\"\u001b[39m\u001b[33mModel \u001b[39m\u001b[33m'\u001b[39m\u001b[38;5;132;01m{\u001b[39;00mmodel\u001b[38;5;132;01m}\u001b[39;00m\u001b[33m'\u001b[39m\u001b[33m is not found in model zoo \u001b[39m\u001b[33m'\u001b[39m\u001b[38;5;132;01m{\u001b[39;00m\u001b[38;5;28mself\u001b[39m.url\u001b[38;5;132;01m}\u001b[39;00m\u001b[33m'\u001b[39m\u001b[33m\"\u001b[39m\n\u001b[32m    133\u001b[39m     )\n",
      "\u001b[31mDegirumException\u001b[39m: Model 'yolo11n' is not found in model zoo './hailo_model'"
     ]
    }
   ],
   "source": [
    "import degirum as dg\n",
    "from pprint import pprint\n",
    "\n",
    "model = dg.load_model(\n",
    "    model_name='yolo11n',                       # must match yolov11n.json!\n",
    "    inference_host_address='@local',\n",
    "    zoo_url='./hailo_model'                      # path to directory, NO trailing slash\n",
    ")\n",
    "\n",
    "pprint(model)\n"
   ]
  },
  {
   "cell_type": "code",
   "execution_count": 4,
   "id": "0037cea3",
   "metadata": {},
   "outputs": [
    {
     "name": "stdout",
     "output_type": "stream",
     "text": [
      "Available models: dict_keys([])\n"
     ]
    }
   ],
   "source": [
    "print(\"Available models:\", dg.list_models(\n",
    "    inference_host_address=\"@local\",\n",
    "    zoo_url='../../models',\n",
    "    token='',\n",
    "    device_type=\"HAILORT/HAILO8L\"\n",
    ").keys())\n"
   ]
  },
  {
   "cell_type": "code",
   "execution_count": 7,
   "id": "0be6dc52",
   "metadata": {},
   "outputs": [
    {
     "name": "stdout",
     "output_type": "stream",
     "text": [
      "my_yolov11n\n",
      "yolov8n_relu6_coco--640x640_quant_hailort_hailo8_1\n",
      "yolov8n_relu6_coco--640x640_quant_hailort_hailo8l_1\n"
     ]
    }
   ],
   "source": [
    "!ls ../../models"
   ]
  },
  {
   "cell_type": "code",
   "execution_count": 9,
   "id": "3c08cfa8",
   "metadata": {},
   "outputs": [
    {
     "ename": "DegirumException",
     "evalue": "Model 'yolov11n' is not found in model zoo '../../models/yolov11n'",
     "output_type": "error",
     "traceback": [
      "\u001b[31m---------------------------------------------------------------------------\u001b[39m",
      "\u001b[31mDegirumException\u001b[39m                          Traceback (most recent call last)",
      "\u001b[36mCell\u001b[39m\u001b[36m \u001b[39m\u001b[32mIn[9]\u001b[39m\u001b[32m, line 1\u001b[39m\n\u001b[32m----> \u001b[39m\u001b[32m1\u001b[39m model = \u001b[43mdg\u001b[49m\u001b[43m.\u001b[49m\u001b[43mload_model\u001b[49m\u001b[43m(\u001b[49m\u001b[43mmodel_name\u001b[49m\u001b[43m=\u001b[49m\u001b[33;43m'\u001b[39;49m\u001b[33;43myolov11n\u001b[39;49m\u001b[33;43m'\u001b[39;49m\u001b[43m,\u001b[49m\n\u001b[32m      2\u001b[39m \u001b[43m \u001b[49m\u001b[43mzoo_url\u001b[49m\u001b[43m=\u001b[49m\u001b[33;43m'\u001b[39;49m\u001b[33;43m../../models/yolov11n\u001b[39;49m\u001b[33;43m'\u001b[39;49m\u001b[43m,\u001b[49m\n\u001b[32m      3\u001b[39m \u001b[43m \u001b[49m\u001b[43minference_host_address\u001b[49m\u001b[43m=\u001b[49m\u001b[33;43m'\u001b[39;49m\u001b[33;43m@local\u001b[39;49m\u001b[33;43m'\u001b[39;49m\u001b[43m,\u001b[49m\n\u001b[32m      4\u001b[39m \u001b[43mdevice_type\u001b[49m\u001b[43m=\u001b[49m\u001b[33;43m'\u001b[39;49m\u001b[33;43mHAILORT/HAILO8L\u001b[39;49m\u001b[33;43m'\u001b[39;49m\u001b[43m)\u001b[49m\n",
      "\u001b[36mFile \u001b[39m\u001b[32m~/hailo_examples/degirum_env/lib/python3.11/site-packages/degirum/__init__.py:220\u001b[39m, in \u001b[36mload_model\u001b[39m\u001b[34m(model_name, inference_host_address, zoo_url, token, **kwargs)\u001b[39m\n\u001b[32m    196\u001b[39m \u001b[38;5;250m\u001b[39m\u001b[33;03m\"\"\"\u001b[39;00m\n\u001b[32m    197\u001b[39m \u001b[33;03mLoad a model from the model zoo for the inference.\u001b[39;00m\n\u001b[32m    198\u001b[39m \n\u001b[32m   (...)\u001b[39m\u001b[32m    217\u001b[39m \u001b[33;03m    An instance of [degirum.model.Model][] model handling object to be used for AI inferences.\u001b[39;00m\n\u001b[32m    218\u001b[39m \u001b[33;03m\"\"\"\u001b[39;00m\n\u001b[32m    219\u001b[39m zoo = ZooManager(inference_host_address, zoo_url, token)\n\u001b[32m--> \u001b[39m\u001b[32m220\u001b[39m \u001b[38;5;28;01mreturn\u001b[39;00m \u001b[43mzoo\u001b[49m\u001b[43m.\u001b[49m\u001b[43mload_model\u001b[49m\u001b[43m(\u001b[49m\u001b[43mmodel_name\u001b[49m\u001b[43m,\u001b[49m\u001b[43m \u001b[49m\u001b[43m*\u001b[49m\u001b[43m*\u001b[49m\u001b[43mkwargs\u001b[49m\u001b[43m)\u001b[49m\n",
      "\u001b[36mFile \u001b[39m\u001b[32m~/hailo_examples/degirum_env/lib/python3.11/site-packages/degirum/log.py:59\u001b[39m, in \u001b[36mlog_wrap.<locals>.wrap\u001b[39m\u001b[34m(*args, **kwargs)\u001b[39m\n\u001b[32m     57\u001b[39m \u001b[38;5;28;01mtry\u001b[39;00m:\n\u001b[32m     58\u001b[39m     logger.log(log_level, \u001b[33mf\u001b[39m\u001b[33m\"\u001b[39m\u001b[33m/ \u001b[39m\u001b[38;5;132;01m{\u001b[39;00mf.\u001b[34m__qualname__\u001b[39m\u001b[38;5;132;01m}\u001b[39;00m\u001b[33m\"\u001b[39m)\n\u001b[32m---> \u001b[39m\u001b[32m59\u001b[39m     \u001b[38;5;28;01mreturn\u001b[39;00m \u001b[43mf\u001b[49m\u001b[43m(\u001b[49m\u001b[43m*\u001b[49m\u001b[43margs\u001b[49m\u001b[43m,\u001b[49m\u001b[43m \u001b[49m\u001b[43m*\u001b[49m\u001b[43m*\u001b[49m\u001b[43mkwargs\u001b[49m\u001b[43m)\u001b[49m\n\u001b[32m     60\u001b[39m \u001b[38;5;28;01mfinally\u001b[39;00m:\n\u001b[32m     61\u001b[39m     t2 = time.time_ns()\n",
      "\u001b[36mFile \u001b[39m\u001b[32m~/hailo_examples/degirum_env/lib/python3.11/site-packages/degirum/zoo_manager.py:270\u001b[39m, in \u001b[36mZooManager.load_model\u001b[39m\u001b[34m(self, model_name, **kwargs)\u001b[39m\n\u001b[32m    208\u001b[39m \u001b[38;5;129m@log_wrap\u001b[39m\n\u001b[32m    209\u001b[39m \u001b[38;5;28;01mdef\u001b[39;00m\u001b[38;5;250m \u001b[39m\u001b[34mload_model\u001b[39m(\u001b[38;5;28mself\u001b[39m, model_name: \u001b[38;5;28mstr\u001b[39m, **kwargs) -> Model:\n\u001b[32m    210\u001b[39m \u001b[38;5;250m    \u001b[39m\u001b[33;03m\"\"\"Create and return the model handling object for given model name.\u001b[39;00m\n\u001b[32m    211\u001b[39m \n\u001b[32m    212\u001b[39m \u001b[33;03m    Args:\u001b[39;00m\n\u001b[32m   (...)\u001b[39m\u001b[32m    268\u001b[39m \n\u001b[32m    269\u001b[39m \u001b[33;03m    \"\"\"\u001b[39;00m\n\u001b[32m--> \u001b[39m\u001b[32m270\u001b[39m     model = \u001b[38;5;28;43mself\u001b[39;49m\u001b[43m.\u001b[49m\u001b[43m_zoo\u001b[49m\u001b[43m.\u001b[49m\u001b[43mload_model\u001b[49m\u001b[43m(\u001b[49m\u001b[43mmodel_name\u001b[49m\u001b[43m)\u001b[49m\n\u001b[32m    271\u001b[39m     \u001b[38;5;28;01mfor\u001b[39;00m key, value \u001b[38;5;129;01min\u001b[39;00m kwargs.items():\n\u001b[32m    272\u001b[39m         \u001b[38;5;28;01mif\u001b[39;00m \u001b[38;5;28mhasattr\u001b[39m(Model, key):\n",
      "\u001b[36mFile \u001b[39m\u001b[32m~/hailo_examples/degirum_env/lib/python3.11/site-packages/degirum/log.py:59\u001b[39m, in \u001b[36mlog_wrap.<locals>.wrap\u001b[39m\u001b[34m(*args, **kwargs)\u001b[39m\n\u001b[32m     57\u001b[39m \u001b[38;5;28;01mtry\u001b[39;00m:\n\u001b[32m     58\u001b[39m     logger.log(log_level, \u001b[33mf\u001b[39m\u001b[33m\"\u001b[39m\u001b[33m/ \u001b[39m\u001b[38;5;132;01m{\u001b[39;00mf.\u001b[34m__qualname__\u001b[39m\u001b[38;5;132;01m}\u001b[39;00m\u001b[33m\"\u001b[39m)\n\u001b[32m---> \u001b[39m\u001b[32m59\u001b[39m     \u001b[38;5;28;01mreturn\u001b[39;00m \u001b[43mf\u001b[49m\u001b[43m(\u001b[49m\u001b[43m*\u001b[49m\u001b[43margs\u001b[49m\u001b[43m,\u001b[49m\u001b[43m \u001b[49m\u001b[43m*\u001b[49m\u001b[43m*\u001b[49m\u001b[43mkwargs\u001b[49m\u001b[43m)\u001b[49m\n\u001b[32m     60\u001b[39m \u001b[38;5;28;01mfinally\u001b[39;00m:\n\u001b[32m     61\u001b[39m     t2 = time.time_ns()\n",
      "\u001b[36mFile \u001b[39m\u001b[32m~/hailo_examples/degirum_env/lib/python3.11/site-packages/degirum/_zoo_accessor.py:313\u001b[39m, in \u001b[36m_LocalInferenceLocalDirZooAccessor.load_model\u001b[39m\u001b[34m(self, model)\u001b[39m\n\u001b[32m    303\u001b[39m \u001b[38;5;129m@log_wrap\u001b[39m\n\u001b[32m    304\u001b[39m \u001b[38;5;28;01mdef\u001b[39;00m\u001b[38;5;250m \u001b[39m\u001b[34mload_model\u001b[39m(\u001b[38;5;28mself\u001b[39m, model: \u001b[38;5;28mstr\u001b[39m):\n\u001b[32m    305\u001b[39m \u001b[38;5;250m    \u001b[39m\u001b[33;03m\"\"\"Create model object for given model identifier.\u001b[39;00m\n\u001b[32m    306\u001b[39m \n\u001b[32m    307\u001b[39m \u001b[33;03m    Args:\u001b[39;00m\n\u001b[32m   (...)\u001b[39m\u001b[32m    310\u001b[39m \u001b[33;03m    Returns model object corresponding to model identifier.\u001b[39;00m\n\u001b[32m    311\u001b[39m \u001b[33;03m    \"\"\"\u001b[39;00m\n\u001b[32m--> \u001b[39m\u001b[32m313\u001b[39m     model_params = \u001b[38;5;28;43mself\u001b[39;49m\u001b[43m.\u001b[49m\u001b[43mmodel_info\u001b[49m\u001b[43m(\u001b[49m\u001b[43mmodel\u001b[49m\u001b[43m)\u001b[49m\n\u001b[32m    315\u001b[39m     \u001b[38;5;66;03m# Check Supported Device Types for this model\u001b[39;00m\n\u001b[32m    316\u001b[39m     supported_device_types = \u001b[38;5;28mself\u001b[39m._model_supported_device_types(model_params)\n",
      "\u001b[36mFile \u001b[39m\u001b[32m~/hailo_examples/degirum_env/lib/python3.11/site-packages/degirum/log.py:59\u001b[39m, in \u001b[36mlog_wrap.<locals>.wrap\u001b[39m\u001b[34m(*args, **kwargs)\u001b[39m\n\u001b[32m     57\u001b[39m \u001b[38;5;28;01mtry\u001b[39;00m:\n\u001b[32m     58\u001b[39m     logger.log(log_level, \u001b[33mf\u001b[39m\u001b[33m\"\u001b[39m\u001b[33m/ \u001b[39m\u001b[38;5;132;01m{\u001b[39;00mf.\u001b[34m__qualname__\u001b[39m\u001b[38;5;132;01m}\u001b[39;00m\u001b[33m\"\u001b[39m)\n\u001b[32m---> \u001b[39m\u001b[32m59\u001b[39m     \u001b[38;5;28;01mreturn\u001b[39;00m \u001b[43mf\u001b[49m\u001b[43m(\u001b[49m\u001b[43m*\u001b[49m\u001b[43margs\u001b[49m\u001b[43m,\u001b[49m\u001b[43m \u001b[49m\u001b[43m*\u001b[49m\u001b[43m*\u001b[49m\u001b[43mkwargs\u001b[49m\u001b[43m)\u001b[49m\n\u001b[32m     60\u001b[39m \u001b[38;5;28;01mfinally\u001b[39;00m:\n\u001b[32m     61\u001b[39m     t2 = time.time_ns()\n",
      "\u001b[36mFile \u001b[39m\u001b[32m~/hailo_examples/degirum_env/lib/python3.11/site-packages/degirum/_zoo_accessor.py:131\u001b[39m, in \u001b[36m_CommonZooAccessor.model_info\u001b[39m\u001b[34m(self, model)\u001b[39m\n\u001b[32m    129\u001b[39m     \u001b[38;5;28;01mreturn\u001b[39;00m copy.deepcopy(model_info)\n\u001b[32m    130\u001b[39m \u001b[38;5;28;01melse\u001b[39;00m:\n\u001b[32m--> \u001b[39m\u001b[32m131\u001b[39m     \u001b[38;5;28;01mraise\u001b[39;00m DegirumException(\n\u001b[32m    132\u001b[39m         \u001b[33mf\u001b[39m\u001b[33m\"\u001b[39m\u001b[33mModel \u001b[39m\u001b[33m'\u001b[39m\u001b[38;5;132;01m{\u001b[39;00mmodel\u001b[38;5;132;01m}\u001b[39;00m\u001b[33m'\u001b[39m\u001b[33m is not found in model zoo \u001b[39m\u001b[33m'\u001b[39m\u001b[38;5;132;01m{\u001b[39;00m\u001b[38;5;28mself\u001b[39m.url\u001b[38;5;132;01m}\u001b[39;00m\u001b[33m'\u001b[39m\u001b[33m\"\u001b[39m\n\u001b[32m    133\u001b[39m     )\n",
      "\u001b[31mDegirumException\u001b[39m: Model 'yolov11n' is not found in model zoo '../../models/yolov11n'"
     ]
    }
   ],
   "source": [
    "model = dg.load_model(model_name='yolov11n',\n",
    " zoo_url='../../models/yolov11n',\n",
    " inference_host_address='@local',\n",
    "device_type='HAILORT/HAILO8L')"
   ]
  },
  {
   "cell_type": "code",
   "execution_count": 10,
   "id": "0b83969c",
   "metadata": {},
   "outputs": [
    {
     "name": "stdout",
     "output_type": "stream",
     "text": [
      "labels_yolo11n.json  yolo11n-conf.json\tyolo11n.hef\n"
     ]
    }
   ],
   "source": [
    "!ls ../../models/yolov11n"
   ]
  },
  {
   "cell_type": "code",
   "execution_count": 18,
   "id": "ee3117f4",
   "metadata": {},
   "outputs": [
    {
     "name": "stdout",
     "output_type": "stream",
     "text": [
      "['yolov11n.hef', 'labels_yolov11n.json', 'yolov11n-conf.json']\n"
     ]
    }
   ],
   "source": [
    "import os\n",
    "print(os.listdir('../../models/yolov11n'))\n"
   ]
  },
  {
   "cell_type": "code",
   "execution_count": 20,
   "id": "261abadd",
   "metadata": {},
   "outputs": [
    {
     "name": "stdout",
     "output_type": "stream",
     "text": [
      "conf exists: True\n",
      "trying load ...\n"
     ]
    },
    {
     "ename": "DegirumException",
     "evalue": "Model 'yolov11n' is not found in model zoo '../../models/yolov11n'",
     "output_type": "error",
     "traceback": [
      "\u001b[31m---------------------------------------------------------------------------\u001b[39m",
      "\u001b[31mDegirumException\u001b[39m                          Traceback (most recent call last)",
      "\u001b[36mCell\u001b[39m\u001b[36m \u001b[39m\u001b[32mIn[20]\u001b[39m\u001b[32m, line 7\u001b[39m\n\u001b[32m      4\u001b[39m \u001b[38;5;28mprint\u001b[39m(\u001b[33m'\u001b[39m\u001b[33mconf exists:\u001b[39m\u001b[33m'\u001b[39m, conf.exists())\n\u001b[32m      6\u001b[39m \u001b[38;5;28mprint\u001b[39m(\u001b[33m'\u001b[39m\u001b[33mtrying load ...\u001b[39m\u001b[33m'\u001b[39m)\n\u001b[32m----> \u001b[39m\u001b[32m7\u001b[39m m = \u001b[43mdg\u001b[49m\u001b[43m.\u001b[49m\u001b[43mload_model\u001b[49m\u001b[43m(\u001b[49m\u001b[33;43m'\u001b[39;49m\u001b[33;43myolov11n\u001b[39;49m\u001b[33;43m'\u001b[39;49m\u001b[43m,\u001b[49m\u001b[43m \u001b[49m\u001b[43mzoo_url\u001b[49m\u001b[43m=\u001b[49m\u001b[43mzoo_path\u001b[49m\u001b[43m,\u001b[49m\u001b[43m \u001b[49m\u001b[43minference_host_address\u001b[49m\u001b[43m=\u001b[49m\u001b[33;43m'\u001b[39;49m\u001b[33;43m@local\u001b[39;49m\u001b[33;43m'\u001b[39;49m\u001b[43m,\u001b[49m\n\u001b[32m      8\u001b[39m \u001b[43m                  \u001b[49m\u001b[43mdevice_type\u001b[49m\u001b[43m=\u001b[49m\u001b[33;43m'\u001b[39;49m\u001b[33;43mHAILORT/HAILO8L\u001b[39;49m\u001b[33;43m'\u001b[39;49m\u001b[43m)\u001b[49m\n\u001b[32m      9\u001b[39m \u001b[38;5;28mprint\u001b[39m(\u001b[33m'\u001b[39m\u001b[33m✅ loaded, first 3 labels:\u001b[39m\u001b[33m'\u001b[39m, m.labels[:\u001b[32m3\u001b[39m])\n",
      "\u001b[36mFile \u001b[39m\u001b[32m~/hailo_examples/degirum_env/lib/python3.11/site-packages/degirum/__init__.py:220\u001b[39m, in \u001b[36mload_model\u001b[39m\u001b[34m(model_name, inference_host_address, zoo_url, token, **kwargs)\u001b[39m\n\u001b[32m    196\u001b[39m \u001b[38;5;250m\u001b[39m\u001b[33;03m\"\"\"\u001b[39;00m\n\u001b[32m    197\u001b[39m \u001b[33;03mLoad a model from the model zoo for the inference.\u001b[39;00m\n\u001b[32m    198\u001b[39m \n\u001b[32m   (...)\u001b[39m\u001b[32m    217\u001b[39m \u001b[33;03m    An instance of [degirum.model.Model][] model handling object to be used for AI inferences.\u001b[39;00m\n\u001b[32m    218\u001b[39m \u001b[33;03m\"\"\"\u001b[39;00m\n\u001b[32m    219\u001b[39m zoo = ZooManager(inference_host_address, zoo_url, token)\n\u001b[32m--> \u001b[39m\u001b[32m220\u001b[39m \u001b[38;5;28;01mreturn\u001b[39;00m \u001b[43mzoo\u001b[49m\u001b[43m.\u001b[49m\u001b[43mload_model\u001b[49m\u001b[43m(\u001b[49m\u001b[43mmodel_name\u001b[49m\u001b[43m,\u001b[49m\u001b[43m \u001b[49m\u001b[43m*\u001b[49m\u001b[43m*\u001b[49m\u001b[43mkwargs\u001b[49m\u001b[43m)\u001b[49m\n",
      "\u001b[36mFile \u001b[39m\u001b[32m~/hailo_examples/degirum_env/lib/python3.11/site-packages/degirum/log.py:59\u001b[39m, in \u001b[36mlog_wrap.<locals>.wrap\u001b[39m\u001b[34m(*args, **kwargs)\u001b[39m\n\u001b[32m     57\u001b[39m \u001b[38;5;28;01mtry\u001b[39;00m:\n\u001b[32m     58\u001b[39m     logger.log(log_level, \u001b[33mf\u001b[39m\u001b[33m\"\u001b[39m\u001b[33m/ \u001b[39m\u001b[38;5;132;01m{\u001b[39;00mf.\u001b[34m__qualname__\u001b[39m\u001b[38;5;132;01m}\u001b[39;00m\u001b[33m\"\u001b[39m)\n\u001b[32m---> \u001b[39m\u001b[32m59\u001b[39m     \u001b[38;5;28;01mreturn\u001b[39;00m \u001b[43mf\u001b[49m\u001b[43m(\u001b[49m\u001b[43m*\u001b[49m\u001b[43margs\u001b[49m\u001b[43m,\u001b[49m\u001b[43m \u001b[49m\u001b[43m*\u001b[49m\u001b[43m*\u001b[49m\u001b[43mkwargs\u001b[49m\u001b[43m)\u001b[49m\n\u001b[32m     60\u001b[39m \u001b[38;5;28;01mfinally\u001b[39;00m:\n\u001b[32m     61\u001b[39m     t2 = time.time_ns()\n",
      "\u001b[36mFile \u001b[39m\u001b[32m~/hailo_examples/degirum_env/lib/python3.11/site-packages/degirum/zoo_manager.py:270\u001b[39m, in \u001b[36mZooManager.load_model\u001b[39m\u001b[34m(self, model_name, **kwargs)\u001b[39m\n\u001b[32m    208\u001b[39m \u001b[38;5;129m@log_wrap\u001b[39m\n\u001b[32m    209\u001b[39m \u001b[38;5;28;01mdef\u001b[39;00m\u001b[38;5;250m \u001b[39m\u001b[34mload_model\u001b[39m(\u001b[38;5;28mself\u001b[39m, model_name: \u001b[38;5;28mstr\u001b[39m, **kwargs) -> Model:\n\u001b[32m    210\u001b[39m \u001b[38;5;250m    \u001b[39m\u001b[33;03m\"\"\"Create and return the model handling object for given model name.\u001b[39;00m\n\u001b[32m    211\u001b[39m \n\u001b[32m    212\u001b[39m \u001b[33;03m    Args:\u001b[39;00m\n\u001b[32m   (...)\u001b[39m\u001b[32m    268\u001b[39m \n\u001b[32m    269\u001b[39m \u001b[33;03m    \"\"\"\u001b[39;00m\n\u001b[32m--> \u001b[39m\u001b[32m270\u001b[39m     model = \u001b[38;5;28;43mself\u001b[39;49m\u001b[43m.\u001b[49m\u001b[43m_zoo\u001b[49m\u001b[43m.\u001b[49m\u001b[43mload_model\u001b[49m\u001b[43m(\u001b[49m\u001b[43mmodel_name\u001b[49m\u001b[43m)\u001b[49m\n\u001b[32m    271\u001b[39m     \u001b[38;5;28;01mfor\u001b[39;00m key, value \u001b[38;5;129;01min\u001b[39;00m kwargs.items():\n\u001b[32m    272\u001b[39m         \u001b[38;5;28;01mif\u001b[39;00m \u001b[38;5;28mhasattr\u001b[39m(Model, key):\n",
      "\u001b[36mFile \u001b[39m\u001b[32m~/hailo_examples/degirum_env/lib/python3.11/site-packages/degirum/log.py:59\u001b[39m, in \u001b[36mlog_wrap.<locals>.wrap\u001b[39m\u001b[34m(*args, **kwargs)\u001b[39m\n\u001b[32m     57\u001b[39m \u001b[38;5;28;01mtry\u001b[39;00m:\n\u001b[32m     58\u001b[39m     logger.log(log_level, \u001b[33mf\u001b[39m\u001b[33m\"\u001b[39m\u001b[33m/ \u001b[39m\u001b[38;5;132;01m{\u001b[39;00mf.\u001b[34m__qualname__\u001b[39m\u001b[38;5;132;01m}\u001b[39;00m\u001b[33m\"\u001b[39m)\n\u001b[32m---> \u001b[39m\u001b[32m59\u001b[39m     \u001b[38;5;28;01mreturn\u001b[39;00m \u001b[43mf\u001b[49m\u001b[43m(\u001b[49m\u001b[43m*\u001b[49m\u001b[43margs\u001b[49m\u001b[43m,\u001b[49m\u001b[43m \u001b[49m\u001b[43m*\u001b[49m\u001b[43m*\u001b[49m\u001b[43mkwargs\u001b[49m\u001b[43m)\u001b[49m\n\u001b[32m     60\u001b[39m \u001b[38;5;28;01mfinally\u001b[39;00m:\n\u001b[32m     61\u001b[39m     t2 = time.time_ns()\n",
      "\u001b[36mFile \u001b[39m\u001b[32m~/hailo_examples/degirum_env/lib/python3.11/site-packages/degirum/_zoo_accessor.py:313\u001b[39m, in \u001b[36m_LocalInferenceLocalDirZooAccessor.load_model\u001b[39m\u001b[34m(self, model)\u001b[39m\n\u001b[32m    303\u001b[39m \u001b[38;5;129m@log_wrap\u001b[39m\n\u001b[32m    304\u001b[39m \u001b[38;5;28;01mdef\u001b[39;00m\u001b[38;5;250m \u001b[39m\u001b[34mload_model\u001b[39m(\u001b[38;5;28mself\u001b[39m, model: \u001b[38;5;28mstr\u001b[39m):\n\u001b[32m    305\u001b[39m \u001b[38;5;250m    \u001b[39m\u001b[33;03m\"\"\"Create model object for given model identifier.\u001b[39;00m\n\u001b[32m    306\u001b[39m \n\u001b[32m    307\u001b[39m \u001b[33;03m    Args:\u001b[39;00m\n\u001b[32m   (...)\u001b[39m\u001b[32m    310\u001b[39m \u001b[33;03m    Returns model object corresponding to model identifier.\u001b[39;00m\n\u001b[32m    311\u001b[39m \u001b[33;03m    \"\"\"\u001b[39;00m\n\u001b[32m--> \u001b[39m\u001b[32m313\u001b[39m     model_params = \u001b[38;5;28;43mself\u001b[39;49m\u001b[43m.\u001b[49m\u001b[43mmodel_info\u001b[49m\u001b[43m(\u001b[49m\u001b[43mmodel\u001b[49m\u001b[43m)\u001b[49m\n\u001b[32m    315\u001b[39m     \u001b[38;5;66;03m# Check Supported Device Types for this model\u001b[39;00m\n\u001b[32m    316\u001b[39m     supported_device_types = \u001b[38;5;28mself\u001b[39m._model_supported_device_types(model_params)\n",
      "\u001b[36mFile \u001b[39m\u001b[32m~/hailo_examples/degirum_env/lib/python3.11/site-packages/degirum/log.py:59\u001b[39m, in \u001b[36mlog_wrap.<locals>.wrap\u001b[39m\u001b[34m(*args, **kwargs)\u001b[39m\n\u001b[32m     57\u001b[39m \u001b[38;5;28;01mtry\u001b[39;00m:\n\u001b[32m     58\u001b[39m     logger.log(log_level, \u001b[33mf\u001b[39m\u001b[33m\"\u001b[39m\u001b[33m/ \u001b[39m\u001b[38;5;132;01m{\u001b[39;00mf.\u001b[34m__qualname__\u001b[39m\u001b[38;5;132;01m}\u001b[39;00m\u001b[33m\"\u001b[39m)\n\u001b[32m---> \u001b[39m\u001b[32m59\u001b[39m     \u001b[38;5;28;01mreturn\u001b[39;00m \u001b[43mf\u001b[49m\u001b[43m(\u001b[49m\u001b[43m*\u001b[49m\u001b[43margs\u001b[49m\u001b[43m,\u001b[49m\u001b[43m \u001b[49m\u001b[43m*\u001b[49m\u001b[43m*\u001b[49m\u001b[43mkwargs\u001b[49m\u001b[43m)\u001b[49m\n\u001b[32m     60\u001b[39m \u001b[38;5;28;01mfinally\u001b[39;00m:\n\u001b[32m     61\u001b[39m     t2 = time.time_ns()\n",
      "\u001b[36mFile \u001b[39m\u001b[32m~/hailo_examples/degirum_env/lib/python3.11/site-packages/degirum/_zoo_accessor.py:131\u001b[39m, in \u001b[36m_CommonZooAccessor.model_info\u001b[39m\u001b[34m(self, model)\u001b[39m\n\u001b[32m    129\u001b[39m     \u001b[38;5;28;01mreturn\u001b[39;00m copy.deepcopy(model_info)\n\u001b[32m    130\u001b[39m \u001b[38;5;28;01melse\u001b[39;00m:\n\u001b[32m--> \u001b[39m\u001b[32m131\u001b[39m     \u001b[38;5;28;01mraise\u001b[39;00m DegirumException(\n\u001b[32m    132\u001b[39m         \u001b[33mf\u001b[39m\u001b[33m\"\u001b[39m\u001b[33mModel \u001b[39m\u001b[33m'\u001b[39m\u001b[38;5;132;01m{\u001b[39;00mmodel\u001b[38;5;132;01m}\u001b[39;00m\u001b[33m'\u001b[39m\u001b[33m is not found in model zoo \u001b[39m\u001b[33m'\u001b[39m\u001b[38;5;132;01m{\u001b[39;00m\u001b[38;5;28mself\u001b[39m.url\u001b[38;5;132;01m}\u001b[39;00m\u001b[33m'\u001b[39m\u001b[33m\"\u001b[39m\n\u001b[32m    133\u001b[39m     )\n",
      "\u001b[31mDegirumException\u001b[39m: Model 'yolov11n' is not found in model zoo '../../models/yolov11n'"
     ]
    }
   ],
   "source": [
    "import degirum as dg, json, pathlib, os\n",
    "zoo_path = '../../models/yolov11n'\n",
    "conf = pathlib.Path(zoo_path, 'yolov11n-conf.json')\n",
    "print('conf exists:', conf.exists())\n",
    "\n",
    "print('trying load ...')\n",
    "m = dg.load_model('yolov11n', zoo_url=zoo_path, inference_host_address='@local',\n",
    "                  device_type='HAILORT/HAILO8L')\n",
    "print('✅ loaded, first 3 labels:', m.labels[:3])\n"
   ]
  },
  {
   "cell_type": "code",
   "execution_count": null,
   "id": "5f9bd9f8",
   "metadata": {},
   "outputs": [],
   "source": [
    "import degirum as dg\n",
    "\n",
    "model = dg.load_model(\n",
    "    model_name=\"yolov11n\",\n",
    "    zoo_url=\"/home/pi5/hailo_examples/models/yolov11n\",  # folder holding the 3 files\n",
    "    inference_host_address=\"@local\",\n",
    "    device_type=\"HAILORT/HAILO8L\"\n",
    ")\n",
    "\n",
    "print(\"✅ Model loaded, first 3 labels:\", model.labels[:3])\n"
   ]
  },
  {
   "cell_type": "code",
   "execution_count": 21,
   "id": "3167595d",
   "metadata": {},
   "outputs": [
    {
     "ename": "DegirumException",
     "evalue": "Model 'yolov11n' is not found in model zoo '../../models/'",
     "output_type": "error",
     "traceback": [
      "\u001b[31m---------------------------------------------------------------------------\u001b[39m",
      "\u001b[31mDegirumException\u001b[39m                          Traceback (most recent call last)",
      "\u001b[36mCell\u001b[39m\u001b[36m \u001b[39m\u001b[32mIn[21]\u001b[39m\u001b[32m, line 3\u001b[39m\n\u001b[32m      1\u001b[39m \u001b[38;5;28;01mimport\u001b[39;00m\u001b[38;5;250m \u001b[39m\u001b[34;01mdegirum\u001b[39;00m\u001b[38;5;250m \u001b[39m\u001b[38;5;28;01mas\u001b[39;00m\u001b[38;5;250m \u001b[39m\u001b[34;01mdg\u001b[39;00m\n\u001b[32m----> \u001b[39m\u001b[32m3\u001b[39m model = \u001b[43mdg\u001b[49m\u001b[43m.\u001b[49m\u001b[43mload_model\u001b[49m\u001b[43m(\u001b[49m\n\u001b[32m      4\u001b[39m \u001b[43m    \u001b[49m\u001b[43mmodel_name\u001b[49m\u001b[43m=\u001b[49m\u001b[33;43m\"\u001b[39;49m\u001b[33;43myolov11n\u001b[39;49m\u001b[33;43m\"\u001b[39;49m\u001b[43m,\u001b[49m\u001b[43m                     \u001b[49m\u001b[38;5;66;43;03m# ← matches the file’s base name\u001b[39;49;00m\n\u001b[32m      5\u001b[39m \u001b[43m    \u001b[49m\u001b[43mzoo_url\u001b[49m\u001b[43m=\u001b[49m\u001b[33;43m'\u001b[39;49m\u001b[33;43m../../models/\u001b[39;49m\u001b[33;43m'\u001b[39;49m\u001b[43m,\u001b[49m\u001b[43m  \u001b[49m\u001b[38;5;66;43;03m# folder that contains the three files\u001b[39;49;00m\n\u001b[32m      6\u001b[39m \u001b[43m    \u001b[49m\u001b[43minference_host_address\u001b[49m\u001b[43m=\u001b[49m\u001b[33;43m\"\u001b[39;49m\u001b[33;43m@local\u001b[39;49m\u001b[33;43m\"\u001b[39;49m\u001b[43m,\u001b[49m\n\u001b[32m      7\u001b[39m \u001b[43m    \u001b[49m\u001b[43mdevice_type\u001b[49m\u001b[43m=\u001b[49m\u001b[33;43m\"\u001b[39;49m\u001b[33;43mHAILORT/HAILO8L\u001b[39;49m\u001b[33;43m\"\u001b[39;49m\n\u001b[32m      8\u001b[39m \u001b[43m)\u001b[49m\n",
      "\u001b[36mFile \u001b[39m\u001b[32m~/hailo_examples/degirum_env/lib/python3.11/site-packages/degirum/__init__.py:220\u001b[39m, in \u001b[36mload_model\u001b[39m\u001b[34m(model_name, inference_host_address, zoo_url, token, **kwargs)\u001b[39m\n\u001b[32m    196\u001b[39m \u001b[38;5;250m\u001b[39m\u001b[33;03m\"\"\"\u001b[39;00m\n\u001b[32m    197\u001b[39m \u001b[33;03mLoad a model from the model zoo for the inference.\u001b[39;00m\n\u001b[32m    198\u001b[39m \n\u001b[32m   (...)\u001b[39m\u001b[32m    217\u001b[39m \u001b[33;03m    An instance of [degirum.model.Model][] model handling object to be used for AI inferences.\u001b[39;00m\n\u001b[32m    218\u001b[39m \u001b[33;03m\"\"\"\u001b[39;00m\n\u001b[32m    219\u001b[39m zoo = ZooManager(inference_host_address, zoo_url, token)\n\u001b[32m--> \u001b[39m\u001b[32m220\u001b[39m \u001b[38;5;28;01mreturn\u001b[39;00m \u001b[43mzoo\u001b[49m\u001b[43m.\u001b[49m\u001b[43mload_model\u001b[49m\u001b[43m(\u001b[49m\u001b[43mmodel_name\u001b[49m\u001b[43m,\u001b[49m\u001b[43m \u001b[49m\u001b[43m*\u001b[49m\u001b[43m*\u001b[49m\u001b[43mkwargs\u001b[49m\u001b[43m)\u001b[49m\n",
      "\u001b[36mFile \u001b[39m\u001b[32m~/hailo_examples/degirum_env/lib/python3.11/site-packages/degirum/log.py:59\u001b[39m, in \u001b[36mlog_wrap.<locals>.wrap\u001b[39m\u001b[34m(*args, **kwargs)\u001b[39m\n\u001b[32m     57\u001b[39m \u001b[38;5;28;01mtry\u001b[39;00m:\n\u001b[32m     58\u001b[39m     logger.log(log_level, \u001b[33mf\u001b[39m\u001b[33m\"\u001b[39m\u001b[33m/ \u001b[39m\u001b[38;5;132;01m{\u001b[39;00mf.\u001b[34m__qualname__\u001b[39m\u001b[38;5;132;01m}\u001b[39;00m\u001b[33m\"\u001b[39m)\n\u001b[32m---> \u001b[39m\u001b[32m59\u001b[39m     \u001b[38;5;28;01mreturn\u001b[39;00m \u001b[43mf\u001b[49m\u001b[43m(\u001b[49m\u001b[43m*\u001b[49m\u001b[43margs\u001b[49m\u001b[43m,\u001b[49m\u001b[43m \u001b[49m\u001b[43m*\u001b[49m\u001b[43m*\u001b[49m\u001b[43mkwargs\u001b[49m\u001b[43m)\u001b[49m\n\u001b[32m     60\u001b[39m \u001b[38;5;28;01mfinally\u001b[39;00m:\n\u001b[32m     61\u001b[39m     t2 = time.time_ns()\n",
      "\u001b[36mFile \u001b[39m\u001b[32m~/hailo_examples/degirum_env/lib/python3.11/site-packages/degirum/zoo_manager.py:270\u001b[39m, in \u001b[36mZooManager.load_model\u001b[39m\u001b[34m(self, model_name, **kwargs)\u001b[39m\n\u001b[32m    208\u001b[39m \u001b[38;5;129m@log_wrap\u001b[39m\n\u001b[32m    209\u001b[39m \u001b[38;5;28;01mdef\u001b[39;00m\u001b[38;5;250m \u001b[39m\u001b[34mload_model\u001b[39m(\u001b[38;5;28mself\u001b[39m, model_name: \u001b[38;5;28mstr\u001b[39m, **kwargs) -> Model:\n\u001b[32m    210\u001b[39m \u001b[38;5;250m    \u001b[39m\u001b[33;03m\"\"\"Create and return the model handling object for given model name.\u001b[39;00m\n\u001b[32m    211\u001b[39m \n\u001b[32m    212\u001b[39m \u001b[33;03m    Args:\u001b[39;00m\n\u001b[32m   (...)\u001b[39m\u001b[32m    268\u001b[39m \n\u001b[32m    269\u001b[39m \u001b[33;03m    \"\"\"\u001b[39;00m\n\u001b[32m--> \u001b[39m\u001b[32m270\u001b[39m     model = \u001b[38;5;28;43mself\u001b[39;49m\u001b[43m.\u001b[49m\u001b[43m_zoo\u001b[49m\u001b[43m.\u001b[49m\u001b[43mload_model\u001b[49m\u001b[43m(\u001b[49m\u001b[43mmodel_name\u001b[49m\u001b[43m)\u001b[49m\n\u001b[32m    271\u001b[39m     \u001b[38;5;28;01mfor\u001b[39;00m key, value \u001b[38;5;129;01min\u001b[39;00m kwargs.items():\n\u001b[32m    272\u001b[39m         \u001b[38;5;28;01mif\u001b[39;00m \u001b[38;5;28mhasattr\u001b[39m(Model, key):\n",
      "\u001b[36mFile \u001b[39m\u001b[32m~/hailo_examples/degirum_env/lib/python3.11/site-packages/degirum/log.py:59\u001b[39m, in \u001b[36mlog_wrap.<locals>.wrap\u001b[39m\u001b[34m(*args, **kwargs)\u001b[39m\n\u001b[32m     57\u001b[39m \u001b[38;5;28;01mtry\u001b[39;00m:\n\u001b[32m     58\u001b[39m     logger.log(log_level, \u001b[33mf\u001b[39m\u001b[33m\"\u001b[39m\u001b[33m/ \u001b[39m\u001b[38;5;132;01m{\u001b[39;00mf.\u001b[34m__qualname__\u001b[39m\u001b[38;5;132;01m}\u001b[39;00m\u001b[33m\"\u001b[39m)\n\u001b[32m---> \u001b[39m\u001b[32m59\u001b[39m     \u001b[38;5;28;01mreturn\u001b[39;00m \u001b[43mf\u001b[49m\u001b[43m(\u001b[49m\u001b[43m*\u001b[49m\u001b[43margs\u001b[49m\u001b[43m,\u001b[49m\u001b[43m \u001b[49m\u001b[43m*\u001b[49m\u001b[43m*\u001b[49m\u001b[43mkwargs\u001b[49m\u001b[43m)\u001b[49m\n\u001b[32m     60\u001b[39m \u001b[38;5;28;01mfinally\u001b[39;00m:\n\u001b[32m     61\u001b[39m     t2 = time.time_ns()\n",
      "\u001b[36mFile \u001b[39m\u001b[32m~/hailo_examples/degirum_env/lib/python3.11/site-packages/degirum/_zoo_accessor.py:313\u001b[39m, in \u001b[36m_LocalInferenceLocalDirZooAccessor.load_model\u001b[39m\u001b[34m(self, model)\u001b[39m\n\u001b[32m    303\u001b[39m \u001b[38;5;129m@log_wrap\u001b[39m\n\u001b[32m    304\u001b[39m \u001b[38;5;28;01mdef\u001b[39;00m\u001b[38;5;250m \u001b[39m\u001b[34mload_model\u001b[39m(\u001b[38;5;28mself\u001b[39m, model: \u001b[38;5;28mstr\u001b[39m):\n\u001b[32m    305\u001b[39m \u001b[38;5;250m    \u001b[39m\u001b[33;03m\"\"\"Create model object for given model identifier.\u001b[39;00m\n\u001b[32m    306\u001b[39m \n\u001b[32m    307\u001b[39m \u001b[33;03m    Args:\u001b[39;00m\n\u001b[32m   (...)\u001b[39m\u001b[32m    310\u001b[39m \u001b[33;03m    Returns model object corresponding to model identifier.\u001b[39;00m\n\u001b[32m    311\u001b[39m \u001b[33;03m    \"\"\"\u001b[39;00m\n\u001b[32m--> \u001b[39m\u001b[32m313\u001b[39m     model_params = \u001b[38;5;28;43mself\u001b[39;49m\u001b[43m.\u001b[49m\u001b[43mmodel_info\u001b[49m\u001b[43m(\u001b[49m\u001b[43mmodel\u001b[49m\u001b[43m)\u001b[49m\n\u001b[32m    315\u001b[39m     \u001b[38;5;66;03m# Check Supported Device Types for this model\u001b[39;00m\n\u001b[32m    316\u001b[39m     supported_device_types = \u001b[38;5;28mself\u001b[39m._model_supported_device_types(model_params)\n",
      "\u001b[36mFile \u001b[39m\u001b[32m~/hailo_examples/degirum_env/lib/python3.11/site-packages/degirum/log.py:59\u001b[39m, in \u001b[36mlog_wrap.<locals>.wrap\u001b[39m\u001b[34m(*args, **kwargs)\u001b[39m\n\u001b[32m     57\u001b[39m \u001b[38;5;28;01mtry\u001b[39;00m:\n\u001b[32m     58\u001b[39m     logger.log(log_level, \u001b[33mf\u001b[39m\u001b[33m\"\u001b[39m\u001b[33m/ \u001b[39m\u001b[38;5;132;01m{\u001b[39;00mf.\u001b[34m__qualname__\u001b[39m\u001b[38;5;132;01m}\u001b[39;00m\u001b[33m\"\u001b[39m)\n\u001b[32m---> \u001b[39m\u001b[32m59\u001b[39m     \u001b[38;5;28;01mreturn\u001b[39;00m \u001b[43mf\u001b[49m\u001b[43m(\u001b[49m\u001b[43m*\u001b[49m\u001b[43margs\u001b[49m\u001b[43m,\u001b[49m\u001b[43m \u001b[49m\u001b[43m*\u001b[49m\u001b[43m*\u001b[49m\u001b[43mkwargs\u001b[49m\u001b[43m)\u001b[49m\n\u001b[32m     60\u001b[39m \u001b[38;5;28;01mfinally\u001b[39;00m:\n\u001b[32m     61\u001b[39m     t2 = time.time_ns()\n",
      "\u001b[36mFile \u001b[39m\u001b[32m~/hailo_examples/degirum_env/lib/python3.11/site-packages/degirum/_zoo_accessor.py:131\u001b[39m, in \u001b[36m_CommonZooAccessor.model_info\u001b[39m\u001b[34m(self, model)\u001b[39m\n\u001b[32m    129\u001b[39m     \u001b[38;5;28;01mreturn\u001b[39;00m copy.deepcopy(model_info)\n\u001b[32m    130\u001b[39m \u001b[38;5;28;01melse\u001b[39;00m:\n\u001b[32m--> \u001b[39m\u001b[32m131\u001b[39m     \u001b[38;5;28;01mraise\u001b[39;00m DegirumException(\n\u001b[32m    132\u001b[39m         \u001b[33mf\u001b[39m\u001b[33m\"\u001b[39m\u001b[33mModel \u001b[39m\u001b[33m'\u001b[39m\u001b[38;5;132;01m{\u001b[39;00mmodel\u001b[38;5;132;01m}\u001b[39;00m\u001b[33m'\u001b[39m\u001b[33m is not found in model zoo \u001b[39m\u001b[33m'\u001b[39m\u001b[38;5;132;01m{\u001b[39;00m\u001b[38;5;28mself\u001b[39m.url\u001b[38;5;132;01m}\u001b[39;00m\u001b[33m'\u001b[39m\u001b[33m\"\u001b[39m\n\u001b[32m    133\u001b[39m     )\n",
      "\u001b[31mDegirumException\u001b[39m: Model 'yolov11n' is not found in model zoo '../../models/'"
     ]
    }
   ],
   "source": [
    "import degirum as dg\n",
    "\n",
    "model = dg.load_model(\n",
    "    model_name=\"yolov11n\",                     # ← matches the file’s base name\n",
    "    zoo_url='../../models/',  # folder that contains the three files\n",
    "    inference_host_address=\"@local\",\n",
    "    device_type=\"HAILORT/HAILO8L\"\n",
    ")\n"
   ]
  },
  {
   "cell_type": "code",
   "execution_count": null,
   "id": "70bcc54d",
   "metadata": {},
   "outputs": [],
   "source": []
  }
 ],
 "metadata": {
  "kernelspec": {
   "display_name": "degirum_env",
   "language": "python",
   "name": "python3"
  },
  "language_info": {
   "codemirror_mode": {
    "name": "ipython",
    "version": 3
   },
   "file_extension": ".py",
   "mimetype": "text/x-python",
   "name": "python",
   "nbconvert_exporter": "python",
   "pygments_lexer": "ipython3",
   "version": "3.11.2"
  }
 },
 "nbformat": 4,
 "nbformat_minor": 5
}
